{
 "cells": [
  {
   "cell_type": "markdown",
   "metadata": {},
   "source": [
    "# Regression Week 4: Ridge Regression (interpretation)\n",
    "### graphlab version"
   ]
  },
  {
   "cell_type": "markdown",
   "metadata": {},
   "source": [
    "In this notebook, we will run ridge regression multiple times with different L2 penalties to see which one produces the best fit. We will revisit the example of polynomial regression as a means to see the effect of L2 regularization. In particular, we will:\n",
    "* Use a pre-built implementation of regression (GraphLab Create) to run polynomial regression\n",
    "* Use matplotlib to visualize polynomial regressions\n",
    "* Use a pre-built implementation of regression (GraphLab Create) to run polynomial regression, this time with L2 penalty\n",
    "* Use matplotlib to visualize polynomial regressions under L2 regularization\n",
    "* Choose best L2 penalty using cross-validation.\n",
    "* Assess the final fit using test data.\n",
    "\n",
    "**1.** We will continue to use the House data from previous notebooks.  (In the next programming assignment for this module, you will implement your own ridge regression learning algorithm using gradient descent.)"
   ]
  },
  {
   "cell_type": "markdown",
   "metadata": {},
   "source": [
    "# Fire up graphlab create"
   ]
  },
  {
   "cell_type": "code",
   "execution_count": 7,
   "metadata": {
    "collapsed": false
   },
   "outputs": [],
   "source": [
    "import graphlab as gl\n",
    "import math\n",
    "import random\n",
    "import numpy as np"
   ]
  },
  {
   "cell_type": "markdown",
   "metadata": {},
   "source": [
    "# Polynomial regression, revisited"
   ]
  },
  {
   "cell_type": "markdown",
   "metadata": {},
   "source": [
    "**2.** We build on the material from Week 3, where we wrote the function to produce an SFrame with columns containing the powers of a given input. Copy and paste the function `polynomial_sframe` from Week 3:"
   ]
  },
  {
   "cell_type": "code",
   "execution_count": 8,
   "metadata": {
    "collapsed": false
   },
   "outputs": [],
   "source": [
    "def polynomial_sframe(feature, degree):\n",
    "    # assume that degree >= 1\n",
    "    \n",
    "    # create and initialize a new empty SFrame:\n",
    "    poly_sframe = gl.SFrame()\n",
    "    \n",
    "    # create a new column/feature 'power_1' and \n",
    "    # set poly_sframe['power_1'] equal to the passed feature\n",
    "    poly_sframe['power_1'] = feature\n",
    "    \n",
    "    # first check if degree > 1\n",
    "    if degree > 1:\n",
    "        # then loop over the remaining degrees:\n",
    "        # range usually starts at 0 and stops at the endpoint-1. We want it to start at 2 and stop at degree\n",
    "        for power in range(2, degree+1): \n",
    "            # first we'll give the column a name:\n",
    "            name = 'power_' + str(power)\n",
    "            \n",
    "            # then assign poly_sframe[name] to the appropriate power of feature\n",
    "            # poly_sframe[name] = feature.apply(lambda x: x**power)\n",
    "            poly_sframe[name] = poly_sframe['power_1'].apply(lambda x: x**power)\n",
    "            #poly_sframe[name] = feature.apply(lambda x: x**power)\n",
    "    return poly_sframe  #returns the sframe created"
   ]
  },
  {
   "cell_type": "markdown",
   "metadata": {},
   "source": [
    "Let's use matplotlib to visualize what a polynomial regression looks like on the house data."
   ]
  },
  {
   "cell_type": "code",
   "execution_count": 9,
   "metadata": {
    "collapsed": false
   },
   "outputs": [],
   "source": [
    "import matplotlib.pyplot as plt\n",
    "%matplotlib inline"
   ]
  },
  {
   "cell_type": "code",
   "execution_count": 10,
   "metadata": {
    "collapsed": false
   },
   "outputs": [
    {
     "name": "stdout",
     "output_type": "stream",
     "text": [
      "+-------------+----------+\n",
      "| sqft_living |  price   |\n",
      "+-------------+----------+\n",
      "|    1180.0   | 221900.0 |\n",
      "|    2570.0   | 538000.0 |\n",
      "+-------------+----------+\n",
      "[2 rows x 2 columns]\n",
      "\n"
     ]
    }
   ],
   "source": [
    "sales = gl.SFrame('../../Week2/kc_house_data.gl/')\n",
    "print sales.head(2)['sqft_living', 'price']"
   ]
  },
  {
   "cell_type": "markdown",
   "metadata": {},
   "source": [
    "As in Week 3, we will use the sqft_living variable. For plotting purposes (connecting the dots), you'll need to sort by the values of sqft_living. For houses with identical square footage, we break the tie by their prices."
   ]
  },
  {
   "cell_type": "code",
   "execution_count": 11,
   "metadata": {
    "collapsed": false
   },
   "outputs": [
    {
     "name": "stdout",
     "output_type": "stream",
     "text": [
      "+-------------+----------+\n",
      "| sqft_living |  price   |\n",
      "+-------------+----------+\n",
      "|    290.0    | 142000.0 |\n",
      "|    370.0    | 276000.0 |\n",
      "+-------------+----------+\n",
      "[2 rows x 2 columns]\n",
      "\n"
     ]
    }
   ],
   "source": [
    "sales = sales.sort(['sqft_living','price'])\n",
    "print sales.head(2)['sqft_living', 'price']"
   ]
  },
  {
   "cell_type": "markdown",
   "metadata": {},
   "source": [
    "**3.** Let us revisit the 15th-order polynomial model using the 'sqft_living' input. Generate polynomial features up to degree 15 using `polynomial_sframe()` and fit a model with these features. When fitting the model, use an L2 penalty of `1e-5`:"
   ]
  },
  {
   "cell_type": "code",
   "execution_count": 12,
   "metadata": {
    "collapsed": false
   },
   "outputs": [
    {
     "name": "stdout",
     "output_type": "stream",
     "text": [
      "+---------+---------+------------+--------------+---------------+----------------+\n",
      "| power_1 | power_2 |  power_3   |   power_4    |    power_5    |    power_6     |\n",
      "+---------+---------+------------+--------------+---------------+----------------+\n",
      "|  290.0  | 84100.0 | 24389000.0 | 7072810000.0 | 2.0511149e+12 | 5.94823321e+14 |\n",
      "+---------+---------+------------+--------------+---------------+----------------+\n",
      "+------------------+-------------------+-------------------+-----------------+\n",
      "|     power_7      |      power_8      |      power_9      |     power_10    |\n",
      "+------------------+-------------------+-------------------+-----------------+\n",
      "| 1.7249876309e+17 | 5.00246412961e+19 | 1.45071459759e+22 | 4.207072333e+24 |\n",
      "+------------------+-------------------+-------------------+-----------------+\n",
      "+-------------------+-------------------+------------------+-------------------+\n",
      "|      power_11     |      power_12     |     power_13     |      power_14     |\n",
      "+-------------------+-------------------+------------------+-------------------+\n",
      "| 1.22005097657e+27 | 3.53814783205e+29 | 1.0260628713e+32 | 2.97558232676e+34 |\n",
      "+-------------------+-------------------+------------------+-------------------+\n",
      "+------------------+----------+\n",
      "|     power_15     |  price   |\n",
      "+------------------+----------+\n",
      "| 8.6291887476e+36 | 142000.0 |\n",
      "+------------------+----------+\n",
      "[1 rows x 16 columns]\n",
      "\n"
     ]
    }
   ],
   "source": [
    "l2_small_penalty = 1.5e-5\n",
    "poly15_data = polynomial_sframe(sales['sqft_living'], 15)\n",
    "my_features = poly15_data.column_names() # get the name of the features b4 adding target variable!!!\n",
    "poly15_data['price'] = sales['price'] # adds extra column for price to the data since it's the target\n",
    "print poly15_data.head(1)"
   ]
  },
  {
   "cell_type": "markdown",
   "metadata": {},
   "source": [
    "Note: When we have so many features and so few data points, the solution can become highly numerically unstable, which can sometimes lead to strange unpredictable results.  Thus, rather than using no regularization, we will introduce a tiny amount of regularization (`l2_penalty=1e-5`) to make the solution numerically stable.  (In lecture, we discussed the fact that regularization can also help with numerical stability, and here we are seeing a practical example.)\n",
    "\n",
    "With the L2 penalty specified above, fit the model and print out the learned weights.\n",
    "\n",
    "Hint: make sure to add 'price' column to the new SFrame before calling `gl.linear_regression.create()`. Also, make sure GraphLab Create doesn't create its own validation set by using the option `validation_set=None` in this call."
   ]
  },
  {
   "cell_type": "code",
   "execution_count": 13,
   "metadata": {
    "collapsed": false
   },
   "outputs": [
    {
     "data": {
      "text/html": [
       "<pre>Linear regression:</pre>"
      ],
      "text/plain": [
       "Linear regression:"
      ]
     },
     "metadata": {},
     "output_type": "display_data"
    },
    {
     "data": {
      "text/html": [
       "<pre>--------------------------------------------------------</pre>"
      ],
      "text/plain": [
       "--------------------------------------------------------"
      ]
     },
     "metadata": {},
     "output_type": "display_data"
    },
    {
     "data": {
      "text/html": [
       "<pre>Number of examples          : 21613</pre>"
      ],
      "text/plain": [
       "Number of examples          : 21613"
      ]
     },
     "metadata": {},
     "output_type": "display_data"
    },
    {
     "data": {
      "text/html": [
       "<pre>Number of features          : 15</pre>"
      ],
      "text/plain": [
       "Number of features          : 15"
      ]
     },
     "metadata": {},
     "output_type": "display_data"
    },
    {
     "data": {
      "text/html": [
       "<pre>Number of unpacked features : 15</pre>"
      ],
      "text/plain": [
       "Number of unpacked features : 15"
      ]
     },
     "metadata": {},
     "output_type": "display_data"
    },
    {
     "data": {
      "text/html": [
       "<pre>Number of coefficients    : 16</pre>"
      ],
      "text/plain": [
       "Number of coefficients    : 16"
      ]
     },
     "metadata": {},
     "output_type": "display_data"
    },
    {
     "data": {
      "text/html": [
       "<pre>Starting Newton Method</pre>"
      ],
      "text/plain": [
       "Starting Newton Method"
      ]
     },
     "metadata": {},
     "output_type": "display_data"
    },
    {
     "data": {
      "text/html": [
       "<pre>--------------------------------------------------------</pre>"
      ],
      "text/plain": [
       "--------------------------------------------------------"
      ]
     },
     "metadata": {},
     "output_type": "display_data"
    },
    {
     "data": {
      "text/html": [
       "<pre>+-----------+----------+--------------+--------------------+---------------+</pre>"
      ],
      "text/plain": [
       "+-----------+----------+--------------+--------------------+---------------+"
      ]
     },
     "metadata": {},
     "output_type": "display_data"
    },
    {
     "data": {
      "text/html": [
       "<pre>| Iteration | Passes   | Elapsed Time | Training-max_error | Training-rmse |</pre>"
      ],
      "text/plain": [
       "| Iteration | Passes   | Elapsed Time | Training-max_error | Training-rmse |"
      ]
     },
     "metadata": {},
     "output_type": "display_data"
    },
    {
     "data": {
      "text/html": [
       "<pre>+-----------+----------+--------------+--------------------+---------------+</pre>"
      ],
      "text/plain": [
       "+-----------+----------+--------------+--------------------+---------------+"
      ]
     },
     "metadata": {},
     "output_type": "display_data"
    },
    {
     "data": {
      "text/html": [
       "<pre>| 1         | 2        | 1.034207     | 2664005.628056     | 245658.000524 |</pre>"
      ],
      "text/plain": [
       "| 1         | 2        | 1.034207     | 2664005.628056     | 245658.000524 |"
      ]
     },
     "metadata": {},
     "output_type": "display_data"
    },
    {
     "data": {
      "text/html": [
       "<pre>+-----------+----------+--------------+--------------------+---------------+</pre>"
      ],
      "text/plain": [
       "+-----------+----------+--------------+--------------------+---------------+"
      ]
     },
     "metadata": {},
     "output_type": "display_data"
    },
    {
     "data": {
      "text/html": [
       "<pre>SUCCESS: Optimal solution found.</pre>"
      ],
      "text/plain": [
       "SUCCESS: Optimal solution found."
      ]
     },
     "metadata": {},
     "output_type": "display_data"
    },
    {
     "data": {
      "text/html": [
       "<pre></pre>"
      ],
      "text/plain": []
     },
     "metadata": {},
     "output_type": "display_data"
    },
    {
     "name": "stdout",
     "output_type": "stream",
     "text": [
      "+-------------+-------+---------------+--------+\n",
      "|     name    | index |     value     | stderr |\n",
      "+-------------+-------+---------------+--------+\n",
      "| (intercept) |  None | 156896.992576 |  nan   |\n",
      "|   power_1   |  None |  137.41234446 |  nan   |\n",
      "+-------------+-------+---------------+--------+\n",
      "[16 rows x 4 columns]\n",
      "\n"
     ]
    }
   ],
   "source": [
    "model_poly15 = gl.linear_regression.create(poly15_data, target = 'price', features = my_features, \n",
    "                                           l2_penalty = 1.5e-5, validation_set = None)\n",
    "# guess parameter  'features = my_features' is optional here since its going to \n",
    "# use all columns for prediction except price since we say its the target\n",
    "# model_poly15.coefficients.print_rows(num_rows=16, num_columns=4)   \n",
    "model_poly15.coefficients.print_rows(num_rows=2, num_columns=4)"
   ]
  },
  {
   "cell_type": "markdown",
   "metadata": {},
   "source": [
    "*** 4. QUIZ QUESTION:  What's the learned value for the coefficient of feature `power_1`?*** 137.41"
   ]
  },
  {
   "cell_type": "markdown",
   "metadata": {},
   "source": [
    "# Observe overfitting"
   ]
  },
  {
   "cell_type": "markdown",
   "metadata": {},
   "source": [
    "**5.** Recall from Week 3 that the polynomial fit of degree 15 changed wildly whenever the data changed. In particular, when we split the sales data into four subsets and fit the model of degree 15, the result came out to be very different for each subset. The model had a *high variance*. We will see next that ridge regression reduces such variance although with a toleratable increase in bias. We can say that a degree 15 polynomial model is a very complex model, and that although increased complexity leads to more flexible model, i.e gives a model that fits the data exceedingly well ie. overfit so bias is very low but as we saw from the plots of the 4 different degree 15 polynomial model fit to the data, the models vary wildely thus displays high variance. But first, we must reproduce the experiment we did in Week 3."
   ]
  },
  {
   "cell_type": "markdown",
   "metadata": {},
   "source": [
    "**6. ** First, split the data into split the sales data into four subsets of roughly equal size and call them `set_1`, `set_2`, `set_3`, and `set_4`. Use `.random_split` function and make sure you set `seed=0`. "
   ]
  },
  {
   "cell_type": "code",
   "execution_count": 44,
   "metadata": {
    "collapsed": false
   },
   "outputs": [],
   "source": [
    "(semi_split1, semi_split2) = sales.random_split(.5,seed=0)\n",
    "(set_1, set_2) = semi_split1.random_split(0.5, seed=0)\n",
    "(set_3, set_4) = semi_split2.random_split(0.5, seed=0)"
   ]
  },
  {
   "cell_type": "markdown",
   "metadata": {},
   "source": [
    "**7.** Next, fit a 15th degree polynomial on `set_1`, `set_2`, `set_3`, and `set_4`, using 'sqft_living' to predict prices. Print the weights and make a plot of the resulting model.\n",
    "\n",
    "Hint: When calling `gl.linear_regression.create()`, use the same L2 penalty as before (i.e. `l2_small_penalty`).  Also, make sure GraphLab Create doesn't create its own validation set by using the option `validation_set = None` in this call."
   ]
  },
  {
   "cell_type": "code",
   "execution_count": 45,
   "metadata": {
    "collapsed": false
   },
   "outputs": [],
   "source": [
    "poly_set1_data = polynomial_sframe(set_1['sqft_living'], 15)\n",
    "my_features = poly_set1_data.column_names() # get the name of the features\n",
    "poly_set1_data['price'] = set_1['price'] # add price to the data since it's the target\n",
    "model_poly_set1 = gl.linear_regression.create(poly_set1_data, target = 'price', \n",
    "                                              l2_penalty = 1e-9, validation_set = None, verbose=False)"
   ]
  },
  {
   "cell_type": "code",
   "execution_count": 46,
   "metadata": {
    "collapsed": true
   },
   "outputs": [],
   "source": [
    "poly_set2_data = polynomial_sframe(set_2['sqft_living'], 15)\n",
    "my_features = poly_set2_data.column_names() # get the name of the features\n",
    "poly_set2_data['price'] = set_2['price'] # add price to the data since it's the target\n",
    "model_poly_set2 = gl.linear_regression.create(poly_set2_data, target = 'price', \n",
    "                                              l2_penalty = 1e-9, validation_set = None, verbose=False)"
   ]
  },
  {
   "cell_type": "code",
   "execution_count": 47,
   "metadata": {
    "collapsed": true
   },
   "outputs": [],
   "source": [
    "poly_set3_data = polynomial_sframe(set_3['sqft_living'], 15)\n",
    "my_features = poly_set3_data.column_names() # get the name of the features\n",
    "poly_set3_data['price'] = set_3['price'] # add price to the data since it's the target\n",
    "model_poly_set3 = gl.linear_regression.create(poly_set3_data, target = 'price', \n",
    "                                              l2_penalty = 1e-9, validation_set = None, verbose=False)"
   ]
  },
  {
   "cell_type": "code",
   "execution_count": 48,
   "metadata": {
    "collapsed": true
   },
   "outputs": [],
   "source": [
    "poly_set4_data = polynomial_sframe(set_4['sqft_living'], 15)\n",
    "my_features = poly_set4_data.column_names() # get the name of the features\n",
    "poly_set4_data['price'] = set_4['price'] # add price to the data since it's the target\n",
    "model_poly_set4 = gl.linear_regression.create(poly_set4_data, target = 'price', \n",
    "                                              l2_penalty = 1e-9, validation_set = None, verbose=False)"
   ]
  },
  {
   "cell_type": "code",
   "execution_count": 49,
   "metadata": {
    "collapsed": false,
    "scrolled": true
   },
   "outputs": [],
   "source": [
    "# this would print out the coefficients\n",
    "# model_poly_set1.coefficients.print_rows(num_rows=len(model.coefficients['value']), num_columns=4)\n",
    "\n",
    "# Numpy has a nifty function to print out polynomials in a pretty way\n",
    "def print_coefficients(model):    \n",
    "    # Get the degree of the polynomial\n",
    "    deg = len(model.coefficients['value'])-1\n",
    "    print deg\n",
    "\n",
    "    # Get learned parameters as a list\n",
    "    w = list(model.coefficients['value'])\n",
    "    print w\n",
    "\n",
    "    # Numpy has a nifty function to print out polynomials in a pretty way\n",
    "    # (We'll use it, but it needs the parameters in the reverse order)\n",
    "    print 'Learned polynomial for degree ' + str(deg) + ':'\n",
    "    w.reverse()\n",
    "    print np.poly1d(w)"
   ]
  },
  {
   "cell_type": "code",
   "execution_count": 50,
   "metadata": {
    "collapsed": true
   },
   "outputs": [],
   "source": [
    "# Define functions to plot data points x,y and also overlay y_pred as a line \n",
    "\n",
    "# scatter plot X,Y in blue\n",
    "def plot_data(data):    \n",
    "    plt.plot(data['power_1'],data['price'],'b.')\n",
    "    #plt.scatter(data['power_1'],data['price'])\n",
    "    plt.xlabel('x-axis')\n",
    "    plt.ylabel('y-axis')\n",
    "\n",
    "# determine predicted values for y given model and plot in provided kala-colour\n",
    "def plot_poly_predictions(data, model, dset, kala):\n",
    "    plot_data(data)\n",
    "\n",
    "    # Get the degree of the polynomial. num of coefficients also include intercept so 1 less!\n",
    "    deg = len(model.coefficients['value'])-1\n",
    "    \n",
    "    x = data['power_1']\n",
    "    y_pred = model.predict(data)\n",
    "    \n",
    "    # plot predictions\n",
    "    plt.plot(x, y_pred, kala, label='deg' + str(deg) + ' data set ' + dset)\n",
    "    plt.legend(loc='upper left')\n",
    "    #plt.axis([0,1,-1.5,2])"
   ]
  },
  {
   "cell_type": "code",
   "execution_count": 51,
   "metadata": {
    "collapsed": false
   },
   "outputs": [
    {
     "name": "stdout",
     "output_type": "stream",
     "text": [
      "15\n",
      "[-160127.24427332994, 798.7038494766225, 0.022524824822951404, -0.000834989203201975, 7.433937642328972e-07, -2.9272963184546537e-10, 5.82711119951902e-14, -4.931262370265072e-18, -8.110302073201801e-23, 3.028839710195631e-26, 8.535170905087054e-31, -1.53920937398737e-34, -1.1466582529789802e-38, 4.713433315006603e-43, 9.870673054492987e-47, -4.7552054052675177e-51]\n",
      "Learned polynomial for degree 15:\n",
      "            15             14             13             12\n",
      "-4.755e-51 x  + 9.871e-47 x  + 4.713e-43 x  - 1.147e-38 x \n",
      "              11             10             9            8\n",
      " - 1.539e-34 x  + 8.535e-31 x  + 3.029e-26 x - 8.11e-23 x\n",
      "              7             6             5             4            3\n",
      " - 4.931e-18 x + 5.827e-14 x - 2.927e-10 x + 7.434e-07 x - 0.000835 x\n",
      "            2\n",
      " + 0.02252 x + 798.7 x - 1.601e+05\n",
      "15\n",
      "[1176600.698800954, -4232.714317574056, 7.361272489124331, -0.0061949701315707805, 2.7762109348915444e-06, -6.019626325553524e-10, 1.8590534037524654e-14, 1.6760575817276022e-17, -2.2636568959419466e-21, -1.3613553430957153e-25, 3.126813877642416e-29, 2.032177386554652e-33, -3.5557977209246513e-37, -3.093530859266489e-41, 5.610501295415961e-45, -1.97510680350658e-49]\n",
      "Learned polynomial for degree 15:\n",
      "            15             14             13             12\n",
      "-1.975e-49 x  + 5.611e-45 x  - 3.094e-41 x  - 3.556e-37 x \n",
      "              11             10             9             8\n",
      " + 2.032e-33 x  + 3.127e-29 x  - 1.361e-25 x - 2.264e-21 x\n",
      "              7             6            5             4            3\n",
      " + 1.676e-17 x + 1.859e-14 x - 6.02e-10 x + 2.776e-06 x - 0.006195 x\n",
      "          2\n",
      " + 7.361 x - 4233 x + 1.177e+06\n",
      "15\n",
      "[-592338.4887169845, 2946.3811838959823, -3.814639545807553, 0.0023783433038591702, -5.675584474533077e-07, -8.855060389249914e-11, 8.087463406135988e-14, -1.6297079744845735e-17, 7.123418830015055e-22, 1.4540634054835077e-25, -9.558773315711943e-30, -1.5358117937312116e-33, 8.793881813448595e-38, 1.656270336339993e-41, -1.7086155253040413e-45, 4.443232935252148e-50]\n",
      "Learned polynomial for degree 15:\n",
      "           15             14             13             12\n",
      "4.443e-50 x  - 1.709e-45 x  + 1.656e-41 x  + 8.794e-38 x \n",
      "              11             10             9             8\n",
      " - 1.536e-33 x  - 9.559e-30 x  + 1.454e-25 x + 7.123e-22 x\n",
      "             7             6             5             4            3\n",
      " - 1.63e-17 x + 8.087e-14 x - 8.855e-11 x - 5.676e-07 x + 0.002378 x\n",
      "          2\n",
      " - 3.815 x + 2946 x - 5.923e+05\n",
      "15\n",
      "[385374.03613218665, -775.7131320743815, 1.2311654445964468, -0.0002677719045073666, -7.19174430778298e-07, 6.895925869339207e-10, -2.6253727201749307e-13, 4.282551682283252e-17, -2.220313016474598e-22, -7.195887865894447e-25, 2.09739552474352e-29, 1.1412493834565606e-32, -3.524517308239793e-37, -1.8431470944329755e-40, 1.9155229749878975e-44, -5.546842660470285e-49]\n",
      "Learned polynomial for degree 15:\n",
      "            15             14             13             12\n",
      "-5.547e-49 x  + 1.916e-44 x  - 1.843e-40 x  - 3.525e-37 x \n",
      "              11             10             9            8\n",
      " + 1.141e-32 x  + 2.097e-29 x  - 7.196e-25 x - 2.22e-22 x\n",
      "              7             6             5             4             3\n",
      " + 4.283e-17 x - 2.625e-13 x + 6.896e-10 x - 7.192e-07 x - 0.0002678 x\n",
      "          2\n",
      " + 1.231 x - 775.7 x + 3.854e+05\n"
     ]
    },
    {
     "data": {
      "image/png": "[encoded data removed]",
      "text/plain": [
       "<matplotlib.figure.Figure at 0x7f08901d4d90>"
      ]
     },
     "metadata": {},
     "output_type": "display_data"
    }
   ],
   "source": [
    "print_coefficients(model_poly_set1)\n",
    "plot_poly_predictions( poly_set1_data,  model_poly_set1, '1', 'red' )\n",
    "\n",
    "print_coefficients(model_poly_set2)\n",
    "plot_poly_predictions( poly_set2_data,  model_poly_set2, '2', 'green' )\n",
    "\n",
    "print_coefficients(model_poly_set3)\n",
    "plot_poly_predictions( poly_set3_data,  model_poly_set3, '3', 'purple' )\n",
    "\n",
    "print_coefficients(model_poly_set4)\n",
    "plot_poly_predictions( poly_set4_data,  model_poly_set4, '4', 'orange' )\n"
   ]
  },
  {
   "cell_type": "markdown",
   "metadata": {},
   "source": [
    "The four curves should differ from one another a lot, as shown by the coefficients learnt above. The models have a high variance. We can say that a degree 15 polynomial model is a very complex model, and that increased complexity leads to more flexible model, i.e gives a model that fits the data exceedingly well ie. overfit so bias is very low but as we saw from the plots of the 4 different degree 15 polynomial model fit to the data, the models vary wildely thus displays high variance. Ridge regression reduces such variance although with a toleratable increase in bias.\n",
    "\n",
    "***8. QUIZ QUESTION:  For the models learned in each of these training sets, what are the smallest and largest values you learned for the coefficient of feature `power_1`?***  (For the purpose of answering this question, negative numbers are considered \"smaller\" than positive numbers. So -5 is smaller than -3, and -3 is smaller than 5 and so forth.)\n",
    "\n",
    "Coeffients of feature `power_1` in order smallest to largest weight [-4232, -775, 798, 2946] "
   ]
  },
  {
   "cell_type": "code",
   "execution_count": 52,
   "metadata": {
    "collapsed": false,
    "scrolled": true
   },
   "outputs": [
    {
     "name": "stdout",
     "output_type": "stream",
     "text": [
      "+-------------+-------+----------------+---------------+\n",
      "|     name    | index |     value      |     stderr    |\n",
      "+-------------+-------+----------------+---------------+\n",
      "| (intercept) |  None | -160127.244273 | 717564.561381 |\n",
      "|   power_1   |  None | 798.703849477  | 2980.70927346 |\n",
      "+-------------+-------+----------------+---------------+\n",
      "[16 rows x 4 columns]\n",
      "\n",
      "+-------------+-------+----------------+---------------+\n",
      "|     name    | index |     value      |     stderr    |\n",
      "+-------------+-------+----------------+---------------+\n",
      "| (intercept) |  None |  1176600.6988  | 1422318.48505 |\n",
      "|   power_1   |  None | -4232.71431757 | 7872.16188135 |\n",
      "+-------------+-------+----------------+---------------+\n",
      "[16 rows x 4 columns]\n",
      "\n",
      "+-------------+-------+----------------+---------------+\n",
      "|     name    | index |     value      |     stderr    |\n",
      "+-------------+-------+----------------+---------------+\n",
      "| (intercept) |  None | -592338.488717 |  1261861.2982 |\n",
      "|   power_1   |  None |  2946.3811839  | 6149.34446173 |\n",
      "+-------------+-------+----------------+---------------+\n",
      "[16 rows x 4 columns]\n",
      "\n",
      "+-------------+-------+----------------+---------------+\n",
      "|     name    | index |     value      |     stderr    |\n",
      "+-------------+-------+----------------+---------------+\n",
      "| (intercept) |  None | 385374.036132  | 5291822.95497 |\n",
      "|   power_1   |  None | -775.713132074 | 37810.2426296 |\n",
      "+-------------+-------+----------------+---------------+\n",
      "[16 rows x 4 columns]\n",
      "\n"
     ]
    }
   ],
   "source": [
    "model_poly_set1.coefficients.print_rows(num_rows=2, num_columns=4)\n",
    "model_poly_set2.coefficients.print_rows(num_rows=2, num_columns=4)\n",
    "model_poly_set3.coefficients.print_rows(num_rows=2, num_columns=4)\n",
    "model_poly_set4.coefficients.print_rows(num_rows=2, num_columns=4)"
   ]
  },
  {
   "cell_type": "markdown",
   "metadata": {},
   "source": [
    "# Ridge regression comes to rescue"
   ]
  },
  {
   "cell_type": "markdown",
   "metadata": {},
   "source": [
    "**9.** Generally, whenever we see weights change so much in response to change in data, we believe the variance of our estimate to be large. We don't want that, cause it shows our model is very flexible/complex and hence doesn't generalise well to new data. So its unstable model with predictions that won't be reliable since results not reproducible. Ridge regression aims to address this issue by penalizing \"large\" weights/coefficients. (The weights looked quite small, but they are not that small because 'sqft_living' input is in the order of thousands.)\n",
    "\n",
    "**10.** With the argument `l2_penalty=1e5`, fit a 15th-order polynomial model on `set_1`, `set_2`, `set_3`, and `set_4`, this time with a large L2 penalty. Make sure to add \"alpha=l2_penalty\" and \"normalize=True\" to the parameter list, where the value of l2_penalty is given by`l2_penalty=1.23e2`.  Other than the change in the `l2_penalty` parameter, the code should be the same as the experiment above. Also, make sure GraphLab Create doesn't create its own validation set by using the option `validation_set = None` in this call."
   ]
  },
  {
   "cell_type": "code",
   "execution_count": 53,
   "metadata": {
    "collapsed": false,
    "scrolled": false
   },
   "outputs": [],
   "source": [
    "model_poly_set1 = gl.linear_regression.create(poly_set1_data, target = 'price',  \n",
    "                                              l2_penalty = 1e2, validation_set = None, verbose=False)"
   ]
  },
  {
   "cell_type": "code",
   "execution_count": 54,
   "metadata": {
    "collapsed": true
   },
   "outputs": [],
   "source": [
    "model_poly_set2 = gl.linear_regression.create(poly_set2_data, target = 'price', \n",
    "                                              l2_penalty = 1e2, validation_set = None, verbose=False)"
   ]
  },
  {
   "cell_type": "code",
   "execution_count": 55,
   "metadata": {
    "collapsed": true
   },
   "outputs": [],
   "source": [
    "model_poly_set3 = gl.linear_regression.create(poly_set3_data, target = 'price',\n",
    "                                              l2_penalty = 1e2, validation_set = None, verbose=False)"
   ]
  },
  {
   "cell_type": "code",
   "execution_count": 56,
   "metadata": {
    "collapsed": true
   },
   "outputs": [],
   "source": [
    "model_poly_set4 = gl.linear_regression.create(poly_set4_data, target = 'price', \n",
    "                                              l2_penalty = 1e2, validation_set = None, verbose=False)"
   ]
  },
  {
   "cell_type": "code",
   "execution_count": 57,
   "metadata": {
    "collapsed": false,
    "scrolled": false
   },
   "outputs": [
    {
     "data": {
      "image/png": "[encoded data removed]",
      "text/plain": [
       "<matplotlib.figure.Figure at 0x7f08c78f7450>"
      ]
     },
     "metadata": {},
     "output_type": "display_data"
    }
   ],
   "source": [
    "#print_coefficients(model_poly_set1)\n",
    "plot_poly_predictions( poly_set1_data,  model_poly_set1, '1', 'red' )\n",
    "\n",
    "#print_coefficients(model_poly_set2)\n",
    "plot_poly_predictions( poly_set2_data,  model_poly_set2, '2', 'green' )\n",
    "\n",
    "#print_coefficients(model_poly_set3)\n",
    "plot_poly_predictions( poly_set3_data,  model_poly_set3, '3', 'purple' )\n",
    "\n",
    "#print_coefficients(model_poly_set4)\n",
    "plot_poly_predictions( poly_set4_data,  model_poly_set4, '4', 'orange' )"
   ]
  },
  {
   "cell_type": "code",
   "execution_count": 59,
   "metadata": {
    "collapsed": false
   },
   "outputs": [
    {
     "name": "stdout",
     "output_type": "stream",
     "text": [
      "+-------------+-------+---------------+---------------+\n",
      "|     name    | index |     value     |     stderr    |\n",
      "+-------------+-------+---------------+---------------+\n",
      "| (intercept) |  None | 212903.539818 | 724589.447562 |\n",
      "|   power_1   |  None |  75.196408022 | 3009.89012284 |\n",
      "+-------------+-------+---------------+---------------+\n",
      "[16 rows x 4 columns]\n",
      "\n",
      "+-------------+-------+---------------+---------------+\n",
      "|     name    | index |     value     |     stderr    |\n",
      "+-------------+-------+---------------+---------------+\n",
      "| (intercept) |  None | 252861.749484 | 1429685.64262 |\n",
      "|   power_1   |  None | 49.7104124826 | 7912.93717717 |\n",
      "+-------------+-------+---------------+---------------+\n",
      "[16 rows x 4 columns]\n",
      "\n",
      "+-------------+-------+---------------+---------------+\n",
      "|     name    | index |     value     |     stderr    |\n",
      "+-------------+-------+---------------+---------------+\n",
      "| (intercept) |  None | 239636.370458 | 1269068.89832 |\n",
      "|   power_1   |  None | 58.2466821302 | 6184.46877844 |\n",
      "+-------------+-------+---------------+---------------+\n",
      "[16 rows x 4 columns]\n",
      "\n",
      "+-------------+-------+---------------+---------------+\n",
      "|     name    | index |     value     |     stderr    |\n",
      "+-------------+-------+---------------+---------------+\n",
      "| (intercept) |  None |  255714.69666 | 5332396.34013 |\n",
      "|   power_1   |  None | 48.8463382576 | 38100.1407517 |\n",
      "+-------------+-------+---------------+---------------+\n",
      "[16 rows x 4 columns]\n",
      "\n"
     ]
    }
   ],
   "source": [
    "model_poly_set1.coefficients.print_rows(num_rows=2, num_columns=4)\n",
    "model_poly_set2.coefficients.print_rows(num_rows=2, num_columns=4)\n",
    "model_poly_set3.coefficients.print_rows(num_rows=2, num_columns=4)\n",
    "model_poly_set4.coefficients.print_rows(num_rows=2, num_columns=4)"
   ]
  },
  {
   "cell_type": "markdown",
   "metadata": {},
   "source": [
    "These curves should vary a lot less, now that you applied a high degree of regularization.\n",
    "\n",
    "***11. QUIZ QUESTION:  For the models learned with the high level of regularization in each of these training sets, what are the smallest and largest values you learned for the coefficient of feature `power_1`?*** (For the purpose of answering this question, negative numbers are considered \"smaller\" than positive numbers. So -5 is smaller than -3, and -3 is smaller than 5 and so forth.)\n",
    "\n",
    "Coeffients of feature power_1 in order smallest to largest weight [48, 49, 58, 75] "
   ]
  },
  {
   "cell_type": "markdown",
   "metadata": {},
   "source": [
    "# Selecting an L2 penalty via cross-validation"
   ]
  },
  {
   "cell_type": "markdown",
   "metadata": {},
   "source": [
    "**12.** Just like the polynomial degree, the L2 penalty is a \"magic\" parameter we need to select. We could use the validation set approach as we did in the last module, but that approach has a major disadvantage: it leaves fewer observations available for training. **Cross-validation** seeks to overcome this issue by using all of the training set in a smart way.\n",
    "\n",
    "We will implement a kind of cross-validation called **k-fold cross-validation**. The method gets its name because it involves dividing the training set into k segments of roughtly equal size. Similar to the validation set method, we measure the validation error with one of the segments designated as the validation set. The major difference is that we repeat the process k times as follows:\n",
    "\n",
    "* Set aside segment 0 as the validation set, and fit a model on rest of data, and evalutate it on this validation set<br>\n",
    "* Set aside segment 1 as the validation set, and fit a model on rest of data, and evalutate it on this validation set<br>\n",
    "* ...<br>\n",
    "* Set aside segment k-1 as the validation set, and fit a model on rest of data, and evalutate it on this validation set\n",
    "\n",
    "After this process, we compute the average of the k validation errors, and use it as an estimate of the generalization error. Notice that  all observations are used for both training and validation, as we iterate over segments of data. \n",
    "\n",
    "**13.** To estimate the generalization error well, it is crucial to shuffle the training data before dividing them into segments. GraphLab Create has a utility function for shuffling a given SFrame. We reserve 10% of the data as the test set and shuffle the remainder. (Make sure to use `seed=1` to get consistent answer.)"
   ]
  },
  {
   "cell_type": "code",
   "execution_count": 60,
   "metadata": {
    "collapsed": true
   },
   "outputs": [],
   "source": [
    "(train_valid, test) = sales.random_split(.9, seed=1)   #90% for train/validate , 10% for final testing\n",
    "train_valid_shuffled = gl.toolkits.cross_validation.shuffle(train_valid, random_seed=1)  #shuffle the training data "
   ]
  },
  {
   "cell_type": "markdown",
   "metadata": {},
   "source": [
    "**14.** Once the data is shuffled, we divide it into equal segments. Each segment should receive `n/k` elements, where `n` is the number of observations in the training set and `k` is the number of segments. Since the segment 0 starts at index 0 and contains `n/k` elements, it ends at index `(n/k)-1`. The segment 1 starts where the segment 0 left off, at index `(n/k)`. With `n/k` elements, the segment 1 ends at index `(n*2/k)-1`. Continuing in this fashion, we deduce that the segment `i` starts at index `(n*i/k)` and ends at `(n*(i+1)/k)-1`."
   ]
  },
  {
   "cell_type": "markdown",
   "metadata": {},
   "source": [
    "With this pattern in mind, we write a short loop that prints the starting and ending indices of each segment, just to make sure you are getting the splits right. We use xrange() or range, functions for creating lists, or a range of integers that assist in making for loops."
   ]
  },
  {
   "cell_type": "code",
   "execution_count": 61,
   "metadata": {
    "collapsed": false
   },
   "outputs": [
    {
     "name": "stdout",
     "output_type": "stream",
     "text": [
      "1\n",
      "3\n",
      "5\n",
      "7\n",
      "9\n"
     ]
    }
   ],
   "source": [
    "# odd number generate\n",
    "for i in range(1, 10, 2):    #xrange(start,stop, step) \n",
    "    print(i)"
   ]
  },
  {
   "cell_type": "code",
   "execution_count": 31,
   "metadata": {
    "collapsed": false
   },
   "outputs": [
    {
     "name": "stdout",
     "output_type": "stream",
     "text": [
      "19396\n",
      "0 (0, 1938)\n",
      "1 (1939, 3878)\n",
      "2 (3879, 5817)\n",
      "3 (5818, 7757)\n",
      "4 (7758, 9697)\n",
      "5 (9698, 11636)\n",
      "6 (11637, 13576)\n",
      "7 (13577, 15515)\n",
      "8 (15516, 17455)\n",
      "9 (17456, 19395)\n"
     ]
    }
   ],
   "source": [
    "n = len(train_valid_shuffled)\n",
    "print n\n",
    "k = 10 # 10-fold cross-validation\n",
    "\n",
    "for i in xrange(k):\n",
    "    start = (n*i)/k\n",
    "    end = (n*(i+1))/k-1\n",
    "    print i, (start, end)"
   ]
  },
  {
   "cell_type": "markdown",
   "metadata": {
    "collapsed": false
   },
   "source": [
    "Let us familiarize ourselves with array slicing with SFrame. To extract a continuous slice from an SFrame, use colon in square brackets. For instance, the following cell extracts rows 0 to 3 of `train_valid_shuffled`. Notice that the first index (0) is included in the slice but the last index (4) is omitted."
   ]
  },
  {
   "cell_type": "code",
   "execution_count": 75,
   "metadata": {
    "collapsed": false
   },
   "outputs": [
    {
     "data": {
      "text/html": [
       "<div style=\"max-height:1000px;max-width:1500px;overflow:auto;\"><table frame=\"box\" rules=\"cols\">\n",
       "    <tr>\n",
       "        <th style=\"padding-left: 1em; padding-right: 1em; text-align: center\">id</th>\n",
       "        <th style=\"padding-left: 1em; padding-right: 1em; text-align: center\">date</th>\n",
       "        <th style=\"padding-left: 1em; padding-right: 1em; text-align: center\">price</th>\n",
       "        <th style=\"padding-left: 1em; padding-right: 1em; text-align: center\">bedrooms</th>\n",
       "        <th style=\"padding-left: 1em; padding-right: 1em; text-align: center\">bathrooms</th>\n",
       "        <th style=\"padding-left: 1em; padding-right: 1em; text-align: center\">sqft_living</th>\n",
       "        <th style=\"padding-left: 1em; padding-right: 1em; text-align: center\">sqft_lot</th>\n",
       "        <th style=\"padding-left: 1em; padding-right: 1em; text-align: center\">floors</th>\n",
       "        <th style=\"padding-left: 1em; padding-right: 1em; text-align: center\">waterfront</th>\n",
       "    </tr>\n",
       "    <tr>\n",
       "        <td style=\"padding-left: 1em; padding-right: 1em; text-align: center; vertical-align: top\">2780400035</td>\n",
       "        <td style=\"padding-left: 1em; padding-right: 1em; text-align: center; vertical-align: top\">2014-05-05 00:00:00+00:00</td>\n",
       "        <td style=\"padding-left: 1em; padding-right: 1em; text-align: center; vertical-align: top\">665000.0</td>\n",
       "        <td style=\"padding-left: 1em; padding-right: 1em; text-align: center; vertical-align: top\">4.0</td>\n",
       "        <td style=\"padding-left: 1em; padding-right: 1em; text-align: center; vertical-align: top\">2.5</td>\n",
       "        <td style=\"padding-left: 1em; padding-right: 1em; text-align: center; vertical-align: top\">2800.0</td>\n",
       "        <td style=\"padding-left: 1em; padding-right: 1em; text-align: center; vertical-align: top\">5900</td>\n",
       "        <td style=\"padding-left: 1em; padding-right: 1em; text-align: center; vertical-align: top\">1</td>\n",
       "        <td style=\"padding-left: 1em; padding-right: 1em; text-align: center; vertical-align: top\">0</td>\n",
       "    </tr>\n",
       "    <tr>\n",
       "        <td style=\"padding-left: 1em; padding-right: 1em; text-align: center; vertical-align: top\">1703050500</td>\n",
       "        <td style=\"padding-left: 1em; padding-right: 1em; text-align: center; vertical-align: top\">2015-03-21 00:00:00+00:00</td>\n",
       "        <td style=\"padding-left: 1em; padding-right: 1em; text-align: center; vertical-align: top\">645000.0</td>\n",
       "        <td style=\"padding-left: 1em; padding-right: 1em; text-align: center; vertical-align: top\">3.0</td>\n",
       "        <td style=\"padding-left: 1em; padding-right: 1em; text-align: center; vertical-align: top\">2.5</td>\n",
       "        <td style=\"padding-left: 1em; padding-right: 1em; text-align: center; vertical-align: top\">2490.0</td>\n",
       "        <td style=\"padding-left: 1em; padding-right: 1em; text-align: center; vertical-align: top\">5978</td>\n",
       "        <td style=\"padding-left: 1em; padding-right: 1em; text-align: center; vertical-align: top\">2</td>\n",
       "        <td style=\"padding-left: 1em; padding-right: 1em; text-align: center; vertical-align: top\">0</td>\n",
       "    </tr>\n",
       "    <tr>\n",
       "        <td style=\"padding-left: 1em; padding-right: 1em; text-align: center; vertical-align: top\">5700002325</td>\n",
       "        <td style=\"padding-left: 1em; padding-right: 1em; text-align: center; vertical-align: top\">2014-06-05 00:00:00+00:00</td>\n",
       "        <td style=\"padding-left: 1em; padding-right: 1em; text-align: center; vertical-align: top\">640000.0</td>\n",
       "        <td style=\"padding-left: 1em; padding-right: 1em; text-align: center; vertical-align: top\">3.0</td>\n",
       "        <td style=\"padding-left: 1em; padding-right: 1em; text-align: center; vertical-align: top\">1.75</td>\n",
       "        <td style=\"padding-left: 1em; padding-right: 1em; text-align: center; vertical-align: top\">2340.0</td>\n",
       "        <td style=\"padding-left: 1em; padding-right: 1em; text-align: center; vertical-align: top\">4206</td>\n",
       "        <td style=\"padding-left: 1em; padding-right: 1em; text-align: center; vertical-align: top\">1</td>\n",
       "        <td style=\"padding-left: 1em; padding-right: 1em; text-align: center; vertical-align: top\">0</td>\n",
       "    </tr>\n",
       "    <tr>\n",
       "        <td style=\"padding-left: 1em; padding-right: 1em; text-align: center; vertical-align: top\">0475000510</td>\n",
       "        <td style=\"padding-left: 1em; padding-right: 1em; text-align: center; vertical-align: top\">2014-11-18 00:00:00+00:00</td>\n",
       "        <td style=\"padding-left: 1em; padding-right: 1em; text-align: center; vertical-align: top\">594000.0</td>\n",
       "        <td style=\"padding-left: 1em; padding-right: 1em; text-align: center; vertical-align: top\">3.0</td>\n",
       "        <td style=\"padding-left: 1em; padding-right: 1em; text-align: center; vertical-align: top\">1.0</td>\n",
       "        <td style=\"padding-left: 1em; padding-right: 1em; text-align: center; vertical-align: top\">1320.0</td>\n",
       "        <td style=\"padding-left: 1em; padding-right: 1em; text-align: center; vertical-align: top\">5000</td>\n",
       "        <td style=\"padding-left: 1em; padding-right: 1em; text-align: center; vertical-align: top\">1</td>\n",
       "        <td style=\"padding-left: 1em; padding-right: 1em; text-align: center; vertical-align: top\">0</td>\n",
       "    </tr>\n",
       "</table>\n",
       "<table frame=\"box\" rules=\"cols\">\n",
       "    <tr>\n",
       "        <th style=\"padding-left: 1em; padding-right: 1em; text-align: center\">view</th>\n",
       "        <th style=\"padding-left: 1em; padding-right: 1em; text-align: center\">condition</th>\n",
       "        <th style=\"padding-left: 1em; padding-right: 1em; text-align: center\">grade</th>\n",
       "        <th style=\"padding-left: 1em; padding-right: 1em; text-align: center\">sqft_above</th>\n",
       "        <th style=\"padding-left: 1em; padding-right: 1em; text-align: center\">sqft_basement</th>\n",
       "        <th style=\"padding-left: 1em; padding-right: 1em; text-align: center\">yr_built</th>\n",
       "        <th style=\"padding-left: 1em; padding-right: 1em; text-align: center\">yr_renovated</th>\n",
       "        <th style=\"padding-left: 1em; padding-right: 1em; text-align: center\">zipcode</th>\n",
       "        <th style=\"padding-left: 1em; padding-right: 1em; text-align: center\">lat</th>\n",
       "    </tr>\n",
       "    <tr>\n",
       "        <td style=\"padding-left: 1em; padding-right: 1em; text-align: center; vertical-align: top\">0</td>\n",
       "        <td style=\"padding-left: 1em; padding-right: 1em; text-align: center; vertical-align: top\">3</td>\n",
       "        <td style=\"padding-left: 1em; padding-right: 1em; text-align: center; vertical-align: top\">8</td>\n",
       "        <td style=\"padding-left: 1em; padding-right: 1em; text-align: center; vertical-align: top\">1660</td>\n",
       "        <td style=\"padding-left: 1em; padding-right: 1em; text-align: center; vertical-align: top\">1140</td>\n",
       "        <td style=\"padding-left: 1em; padding-right: 1em; text-align: center; vertical-align: top\">1963</td>\n",
       "        <td style=\"padding-left: 1em; padding-right: 1em; text-align: center; vertical-align: top\">0</td>\n",
       "        <td style=\"padding-left: 1em; padding-right: 1em; text-align: center; vertical-align: top\">98115</td>\n",
       "        <td style=\"padding-left: 1em; padding-right: 1em; text-align: center; vertical-align: top\">47.68093246</td>\n",
       "    </tr>\n",
       "    <tr>\n",
       "        <td style=\"padding-left: 1em; padding-right: 1em; text-align: center; vertical-align: top\">0</td>\n",
       "        <td style=\"padding-left: 1em; padding-right: 1em; text-align: center; vertical-align: top\">3</td>\n",
       "        <td style=\"padding-left: 1em; padding-right: 1em; text-align: center; vertical-align: top\">9</td>\n",
       "        <td style=\"padding-left: 1em; padding-right: 1em; text-align: center; vertical-align: top\">2490</td>\n",
       "        <td style=\"padding-left: 1em; padding-right: 1em; text-align: center; vertical-align: top\">0</td>\n",
       "        <td style=\"padding-left: 1em; padding-right: 1em; text-align: center; vertical-align: top\">2003</td>\n",
       "        <td style=\"padding-left: 1em; padding-right: 1em; text-align: center; vertical-align: top\">0</td>\n",
       "        <td style=\"padding-left: 1em; padding-right: 1em; text-align: center; vertical-align: top\">98074</td>\n",
       "        <td style=\"padding-left: 1em; padding-right: 1em; text-align: center; vertical-align: top\">47.62984888</td>\n",
       "    </tr>\n",
       "    <tr>\n",
       "        <td style=\"padding-left: 1em; padding-right: 1em; text-align: center; vertical-align: top\">0</td>\n",
       "        <td style=\"padding-left: 1em; padding-right: 1em; text-align: center; vertical-align: top\">5</td>\n",
       "        <td style=\"padding-left: 1em; padding-right: 1em; text-align: center; vertical-align: top\">7</td>\n",
       "        <td style=\"padding-left: 1em; padding-right: 1em; text-align: center; vertical-align: top\">1170</td>\n",
       "        <td style=\"padding-left: 1em; padding-right: 1em; text-align: center; vertical-align: top\">1170</td>\n",
       "        <td style=\"padding-left: 1em; padding-right: 1em; text-align: center; vertical-align: top\">1917</td>\n",
       "        <td style=\"padding-left: 1em; padding-right: 1em; text-align: center; vertical-align: top\">0</td>\n",
       "        <td style=\"padding-left: 1em; padding-right: 1em; text-align: center; vertical-align: top\">98144</td>\n",
       "        <td style=\"padding-left: 1em; padding-right: 1em; text-align: center; vertical-align: top\">47.57587004</td>\n",
       "    </tr>\n",
       "    <tr>\n",
       "        <td style=\"padding-left: 1em; padding-right: 1em; text-align: center; vertical-align: top\">0</td>\n",
       "        <td style=\"padding-left: 1em; padding-right: 1em; text-align: center; vertical-align: top\">4</td>\n",
       "        <td style=\"padding-left: 1em; padding-right: 1em; text-align: center; vertical-align: top\">7</td>\n",
       "        <td style=\"padding-left: 1em; padding-right: 1em; text-align: center; vertical-align: top\">1090</td>\n",
       "        <td style=\"padding-left: 1em; padding-right: 1em; text-align: center; vertical-align: top\">230</td>\n",
       "        <td style=\"padding-left: 1em; padding-right: 1em; text-align: center; vertical-align: top\">1920</td>\n",
       "        <td style=\"padding-left: 1em; padding-right: 1em; text-align: center; vertical-align: top\">0</td>\n",
       "        <td style=\"padding-left: 1em; padding-right: 1em; text-align: center; vertical-align: top\">98107</td>\n",
       "        <td style=\"padding-left: 1em; padding-right: 1em; text-align: center; vertical-align: top\">47.66737217</td>\n",
       "    </tr>\n",
       "</table>\n",
       "<table frame=\"box\" rules=\"cols\">\n",
       "    <tr>\n",
       "        <th style=\"padding-left: 1em; padding-right: 1em; text-align: center\">long</th>\n",
       "        <th style=\"padding-left: 1em; padding-right: 1em; text-align: center\">sqft_living15</th>\n",
       "        <th style=\"padding-left: 1em; padding-right: 1em; text-align: center\">sqft_lot15</th>\n",
       "    </tr>\n",
       "    <tr>\n",
       "        <td style=\"padding-left: 1em; padding-right: 1em; text-align: center; vertical-align: top\">-122.28583258</td>\n",
       "        <td style=\"padding-left: 1em; padding-right: 1em; text-align: center; vertical-align: top\">2580.0</td>\n",
       "        <td style=\"padding-left: 1em; padding-right: 1em; text-align: center; vertical-align: top\">5900.0</td>\n",
       "    </tr>\n",
       "    <tr>\n",
       "        <td style=\"padding-left: 1em; padding-right: 1em; text-align: center; vertical-align: top\">-122.02177564</td>\n",
       "        <td style=\"padding-left: 1em; padding-right: 1em; text-align: center; vertical-align: top\">2710.0</td>\n",
       "        <td style=\"padding-left: 1em; padding-right: 1em; text-align: center; vertical-align: top\">6629.0</td>\n",
       "    </tr>\n",
       "    <tr>\n",
       "        <td style=\"padding-left: 1em; padding-right: 1em; text-align: center; vertical-align: top\">-122.28796</td>\n",
       "        <td style=\"padding-left: 1em; padding-right: 1em; text-align: center; vertical-align: top\">1360.0</td>\n",
       "        <td style=\"padding-left: 1em; padding-right: 1em; text-align: center; vertical-align: top\">4725.0</td>\n",
       "    </tr>\n",
       "    <tr>\n",
       "        <td style=\"padding-left: 1em; padding-right: 1em; text-align: center; vertical-align: top\">-122.36472902</td>\n",
       "        <td style=\"padding-left: 1em; padding-right: 1em; text-align: center; vertical-align: top\">1700.0</td>\n",
       "        <td style=\"padding-left: 1em; padding-right: 1em; text-align: center; vertical-align: top\">5000.0</td>\n",
       "    </tr>\n",
       "</table>\n",
       "[4 rows x 21 columns]<br/>\n",
       "</div>"
      ],
      "text/plain": [
       "Columns:\n",
       "\tid\tstr\n",
       "\tdate\tdatetime\n",
       "\tprice\tfloat\n",
       "\tbedrooms\tfloat\n",
       "\tbathrooms\tfloat\n",
       "\tsqft_living\tfloat\n",
       "\tsqft_lot\tint\n",
       "\tfloors\tstr\n",
       "\twaterfront\tint\n",
       "\tview\tint\n",
       "\tcondition\tint\n",
       "\tgrade\tint\n",
       "\tsqft_above\tint\n",
       "\tsqft_basement\tint\n",
       "\tyr_built\tint\n",
       "\tyr_renovated\tint\n",
       "\tzipcode\tstr\n",
       "\tlat\tfloat\n",
       "\tlong\tfloat\n",
       "\tsqft_living15\tfloat\n",
       "\tsqft_lot15\tfloat\n",
       "\n",
       "Rows: 4\n",
       "\n",
       "Data:\n",
       "+------------+---------------------------+----------+----------+-----------+\n",
       "|     id     |            date           |  price   | bedrooms | bathrooms |\n",
       "+------------+---------------------------+----------+----------+-----------+\n",
       "| 2780400035 | 2014-05-05 00:00:00+00:00 | 665000.0 |   4.0    |    2.5    |\n",
       "| 1703050500 | 2015-03-21 00:00:00+00:00 | 645000.0 |   3.0    |    2.5    |\n",
       "| 5700002325 | 2014-06-05 00:00:00+00:00 | 640000.0 |   3.0    |    1.75   |\n",
       "| 0475000510 | 2014-11-18 00:00:00+00:00 | 594000.0 |   3.0    |    1.0    |\n",
       "+------------+---------------------------+----------+----------+-----------+\n",
       "+-------------+----------+--------+------------+------+-----------+-------+------------+\n",
       "| sqft_living | sqft_lot | floors | waterfront | view | condition | grade | sqft_above |\n",
       "+-------------+----------+--------+------------+------+-----------+-------+------------+\n",
       "|    2800.0   |   5900   |   1    |     0      |  0   |     3     |   8   |    1660    |\n",
       "|    2490.0   |   5978   |   2    |     0      |  0   |     3     |   9   |    2490    |\n",
       "|    2340.0   |   4206   |   1    |     0      |  0   |     5     |   7   |    1170    |\n",
       "|    1320.0   |   5000   |   1    |     0      |  0   |     4     |   7   |    1090    |\n",
       "+-------------+----------+--------+------------+------+-----------+-------+------------+\n",
       "+---------------+----------+--------------+---------+-------------+\n",
       "| sqft_basement | yr_built | yr_renovated | zipcode |     lat     |\n",
       "+---------------+----------+--------------+---------+-------------+\n",
       "|      1140     |   1963   |      0       |  98115  | 47.68093246 |\n",
       "|       0       |   2003   |      0       |  98074  | 47.62984888 |\n",
       "|      1170     |   1917   |      0       |  98144  | 47.57587004 |\n",
       "|      230      |   1920   |      0       |  98107  | 47.66737217 |\n",
       "+---------------+----------+--------------+---------+-------------+\n",
       "+---------------+---------------+-----+\n",
       "|      long     | sqft_living15 | ... |\n",
       "+---------------+---------------+-----+\n",
       "| -122.28583258 |     2580.0    | ... |\n",
       "| -122.02177564 |     2710.0    | ... |\n",
       "|   -122.28796  |     1360.0    | ... |\n",
       "| -122.36472902 |     1700.0    | ... |\n",
       "+---------------+---------------+-----+\n",
       "[4 rows x 21 columns]"
      ]
     },
     "execution_count": 75,
     "metadata": {},
     "output_type": "execute_result"
    }
   ],
   "source": [
    "train_valid_shuffled[0:4].head() # rows 0 to 9 (i.e upto but not including the last index 10)"
   ]
  },
  {
   "cell_type": "markdown",
   "metadata": {},
   "source": [
    "Now let us extract individual segments with array slicing. Consider the scenario where we group the houses in the `train_valid_shuffled` dataframe into k=10 segments of roughly equal size, with starting and ending indices computed as above.\n",
    "Extract the fourth segment (segment 3) and assign it to a variable called `validation4`."
   ]
  },
  {
   "cell_type": "code",
   "execution_count": 64,
   "metadata": {
    "collapsed": true
   },
   "outputs": [],
   "source": [
    "# 0 (0, 1938)\n",
    "# 1 (1939, 3878)\n",
    "# 2 (3879, 5817)\n",
    "# 3 (5818, 7757)  <<----4th segment\n",
    "validation4 = train_valid_shuffled[5818:7757]"
   ]
  },
  {
   "cell_type": "markdown",
   "metadata": {},
   "source": [
    "To verify that we have the right elements extracted, run the following cell, which computes the average price of the fourth segment. When rounded to nearest whole number, the average should be $536,234."
   ]
  },
  {
   "cell_type": "code",
   "execution_count": 77,
   "metadata": {
    "collapsed": false
   },
   "outputs": [
    {
     "name": "stdout",
     "output_type": "stream",
     "text": [
      "$536353\n"
     ]
    }
   ],
   "source": [
    "print \"$%d\" %int(round(validation4['price'].mean(), 0))"
   ]
  },
  {
   "cell_type": "markdown",
   "metadata": {},
   "source": [
    "After designating one of the k segments as the validation set, we train a model using the rest of the data. To choose the remainder, we slice (0:start) and (end+1:n) of the data and paste them together. SFrame has `append()` method that pastes together two disjoint sets of rows originating from a common dataset. For instance, the following cell pastes together the first and last two rows of the `train_valid_shuffled` dataframe."
   ]
  },
  {
   "cell_type": "code",
   "execution_count": 66,
   "metadata": {
    "collapsed": false
   },
   "outputs": [],
   "source": [
    "n = len(train_valid_shuffled)\n",
    "first_two = train_valid_shuffled[0:2]\n",
    "last_two = train_valid_shuffled[n-2:n]\n",
    "# print first_two.append(last_two)"
   ]
  },
  {
   "cell_type": "markdown",
   "metadata": {},
   "source": [
    "Extract the remainder of the data after *excluding* fourth segment (segment 3) and assign the subset to `train4`."
   ]
  },
  {
   "cell_type": "code",
   "execution_count": 67,
   "metadata": {
    "collapsed": true
   },
   "outputs": [],
   "source": [
    "first_two = train_valid_shuffled[0:5818]\n",
    "last_two = train_valid_shuffled[7758:n]\n",
    "train4 = first_two.append(last_two)"
   ]
  },
  {
   "cell_type": "markdown",
   "metadata": {},
   "source": [
    "To verify that we have the right elements extracted, run the following cell, which computes the average price of the data with fourth segment excluded. When rounded to nearest whole number, the average should be $539,450."
   ]
  },
  {
   "cell_type": "code",
   "execution_count": 78,
   "metadata": {
    "collapsed": false
   },
   "outputs": [
    {
     "name": "stdout",
     "output_type": "stream",
     "text": [
      "$539450\n"
     ]
    }
   ],
   "source": [
    "print \"$%d\" %int(round(train4['price'].mean(), 0))"
   ]
  },
  {
   "cell_type": "markdown",
   "metadata": {},
   "source": [
    "**15.** Now we are ready to implement k-fold cross-validation. Write a function that computes k validation errors by designating each of the k segments as the validation set. It accepts as parameters (i) `k`, (ii) `l2_penalty`, (iii) dataframe, (iv) name of output column (e.g. `price`) and (v) list of feature names. The function returns the average validation error using k segments as validation sets.\n",
    "\n",
    "* For each i in [0, 1, ..., k-1]:\n",
    "  * Compute starting and ending indices of segment i and call 'start' and 'end'\n",
    "  * Form validation set by taking a slice (start:end+1) from the data.\n",
    "  * Form training set by appending slice (end+1:n) to the end of slice (0:start).\n",
    "  * Train a linear model using training set just formed, with a given l2_penalty\n",
    "  * Compute validation error using validation set just formed"
   ]
  },
  {
   "cell_type": "code",
   "execution_count": 38,
   "metadata": {
    "collapsed": false
   },
   "outputs": [],
   "source": [
    "def k_fold_cross_validation(k, l2, data, output, features_list):\n",
    "    n = len(data)\n",
    "    #print (n,k)\n",
    "    \n",
    "    RSS = list()  #or =[]\n",
    "    RSS_sum = 0\n",
    "    \n",
    "    for i in range(k):\n",
    "        \n",
    "        # Compute starting and ending indices of segment i and call 'start' and 'end'\n",
    "        start = (n*i)/k\n",
    "        end = (n*(i+1))/k-1\n",
    "    \n",
    "        # Cretae a held-out or validation set by taking a slice (start:end+1) from the data.\n",
    "        validation_set = data[start:end+1]\n",
    "        \n",
    "        # Form training set using rest of rows/indices - append slice (end+1:n) to the end of slice (0:start).\n",
    "        data_rows_before_validation_set = data[0:start]\n",
    "        data_rows_after_validation_set = data[end+1:n]\n",
    "        train = data_rows_before_validation_set.append(data_rows_after_validation_set)\n",
    "        \n",
    "        #print \"\\nFor CV fold %d, Validation set is samples from rows %d to %d \\nand train set from 0 to %d and %d to %d\" \\\n",
    "        #       %(i, start, end, start,end+1,n )\n",
    "        \n",
    "        #Train a linear model using training set rows just formed, with a given l2_penalty\n",
    "        model = gl.linear_regression.create(data, target = output, features = features_list,\n",
    "                                              l2_penalty = l2, validation_set = None, verbose=False)\n",
    "        \n",
    "        # Compute validation error using validation set formed earlier\n",
    "        # 1st make predictions using validation data\n",
    "        predictions = model.predict(validation_set)\n",
    "    \n",
    "        # Calculate residuals = actual outcome/price in validation set - price predictions using validation set \n",
    "        residuals = validation_set[output] - predictions\n",
    "        rss = (residuals**2).sum()\n",
    "        RSS.append(rss)     #we could either add to list or\n",
    "        # keep summing up compute squared error like this\n",
    "        RSS_sum += rss\n",
    "       \n",
    "        #print \"And the RSS for CV fold %d is %0.2f\" \\\n",
    "        #       %(i, rss )\n",
    "            \n",
    "    # After each of the 10 sets had one go at being a validation set,\n",
    "    # compute the average validation error for a model, so divide by num of folds \n",
    "    validation_error = sum(RSS)/k \n",
    "    # validation_err = RSS_sum/k  - equivalent\n",
    "    \n",
    "    return validation_error"
   ]
  },
  {
   "cell_type": "markdown",
   "metadata": {},
   "source": [
    "**16.** Once we have a function to compute the average validation error for a model, we can write a loop to find the model that minimizes the average validation error. Write a loop that does the following:\n",
    "* We will again be aiming to fit a 15th-order polynomial model using the `sqft_living` input\n",
    "* For `l2_penalty` in [10^1, 10^1.5, 10^2, 10^2.5, ..., 10^7] (to get this in Python, you can use this Numpy function: `np.logspace(1, 7, num=13)`.)\n",
    "    * Run 10-fold cross-validation with `l2_penalty`\n",
    "* Report which L2 penalty produced the lowest average validation error.\n",
    "\n",
    "Note: since the degree of the polynomial is now fixed to 15, to make things faster, you should generate polynomial features in advance and re-use them throughout the loop. Make sure to use `train_valid_shuffled` when generating polynomial features!"
   ]
  },
  {
   "cell_type": "code",
   "execution_count": 79,
   "metadata": {
    "collapsed": false
   },
   "outputs": [
    {
     "name": "stdout",
     "output_type": "stream",
     "text": [
      "l2_penalty_values = \n",
      "[  1.00000000e+01   3.16227766e+01   1.00000000e+02   3.16227766e+02\n",
      "   1.00000000e+03   3.16227766e+03   1.00000000e+04   3.16227766e+04\n",
      "   1.00000000e+05   3.16227766e+05   1.00000000e+06   3.16227766e+06\n",
      "   1.00000000e+07]\n",
      "['power_1', 'power_2', 'power_3', 'power_4', 'power_5', 'power_6', 'power_7', 'power_8', 'power_9', 'power_10', 'power_11', 'power_12', 'power_13', 'power_14', 'power_15']\n",
      "+---------+-----------+---------------+-------------+---------------+\n",
      "| power_1 |  power_2  |    power_3    |   power_4   |    power_5    |\n",
      "+---------+-----------+---------------+-------------+---------------+\n",
      "|  2800.0 | 7840000.0 | 21952000000.0 | 6.14656e+13 | 1.7210368e+17 |\n",
      "+---------+-----------+---------------+-------------+---------------+\n",
      "+----------------+------------------+-------------------+-------------------+\n",
      "|    power_6     |     power_7      |      power_8      |      power_9      |\n",
      "+----------------+------------------+-------------------+-------------------+\n",
      "| 4.81890304e+20 | 1.3492928512e+24 | 3.77801998336e+27 | 1.05784559534e+31 |\n",
      "+----------------+------------------+-------------------+-------------------+\n",
      "+-------------------+-------------------+-------------------+------------------+\n",
      "|      power_10     |      power_11     |      power_12     |     power_13     |\n",
      "+-------------------+-------------------+-------------------+------------------+\n",
      "| 2.96196766695e+34 | 8.29350946747e+37 | 2.32218265089e+41 | 6.5021114225e+44 |\n",
      "+-------------------+-------------------+-------------------+------------------+\n",
      "+------------------+-------------------+----------+\n",
      "|     power_14     |      power_15     |  price   |\n",
      "+------------------+-------------------+----------+\n",
      "| 1.8205911983e+48 | 5.09765535524e+51 | 665000.0 |\n",
      "+------------------+-------------------+----------+\n",
      "[1 rows x 16 columns]\n",
      "\n",
      "For given l2_penalty = 10.00, RSS or average mse =  118789729601505.75\n",
      "\n",
      "-------------------------------------------------------------\n",
      "For given l2_penalty = 31.62, RSS or average mse =  118929304119307.45\n",
      "\n",
      "-------------------------------------------------------------\n",
      "For given l2_penalty = 100.00, RSS or average mse =  119084476429277.38\n",
      "\n",
      "-------------------------------------------------------------\n",
      "For given l2_penalty = 316.23, RSS or average mse =  119363827529856.72\n",
      "\n",
      "-------------------------------------------------------------\n",
      "For given l2_penalty = 1000.00, RSS or average mse =  120174091529145.95\n",
      "\n",
      "-------------------------------------------------------------\n",
      "For given l2_penalty = 3162.28, RSS or average mse =  123157944555360.38\n",
      "\n",
      "-------------------------------------------------------------\n",
      "For given l2_penalty = 10000.00, RSS or average mse =  134328688231771.78\n",
      "\n",
      "-------------------------------------------------------------\n",
      "For given l2_penalty = 31622.78, RSS or average mse =  165178070838742.94\n",
      "\n",
      "-------------------------------------------------------------\n",
      "For given l2_penalty = 100000.00, RSS or average mse =  209015403974822.81\n",
      "\n",
      "-------------------------------------------------------------\n",
      "For given l2_penalty = 316227.77, RSS or average mse =  240602424219084.06\n",
      "\n",
      "-------------------------------------------------------------\n",
      "For given l2_penalty = 1000000.00, RSS or average mse =  256259670501066.06\n",
      "\n",
      "-------------------------------------------------------------\n",
      "For given l2_penalty = 3162277.66, RSS or average mse =  262643923112292.09\n",
      "\n",
      "-------------------------------------------------------------\n",
      "For given l2_penalty = 10000000.00, RSS or average mse =  264907234762930.19\n",
      "\n",
      "-------------------------------------------------------------\n",
      "\n",
      "\n",
      "Overall Best l2_penalty = 10.00, as it gives lowest mse of 118789729601505.75\n"
     ]
    }
   ],
   "source": [
    "l2_penalty_values = np.logspace(1, 7, num=13)\n",
    "print \"l2_penalty_values = \\n\", l2_penalty_values\n",
    "\n",
    "# generate a 15th-order polynomial using the sqft_living as input\n",
    "data = polynomial_sframe(train_valid_shuffled['sqft_living'], 15)\n",
    "data.head(1)\n",
    "\n",
    "# grab list of features\n",
    "features_list = data.column_names() # get the name of the features\n",
    "print features_list\n",
    "\n",
    "# add price to the data since it's the target we want to train model against\n",
    "data['price'] = train_valid_shuffled['price'] \n",
    "print data.head(1)\n",
    "\n",
    "# for each value of l2_penalty, fit a model for each fold and compute average MSE over 10 folds\n",
    "l2_penalty_mse = []\n",
    "min_mse = None\n",
    "best_l2_penalty = None\n",
    "\n",
    "for l2_penalty in l2_penalty_values:\n",
    "    next_mse = k_fold_cross_validation(10, l2_penalty, data, 'price', features_list)\n",
    "    l2_penalty_mse.append(next_mse)\n",
    "    \n",
    "    print \"For given l2_penalty = %0.2f, RSS or average mse =  %0.2f\\n\" %(l2_penalty, next_mse)\n",
    "    print \"-------------------------------------------------------------\"\n",
    "    if min_mse is None or next_mse < min_mse:\n",
    "        min_mse = next_mse\n",
    "        best_l2_penalty = l2_penalty\n",
    "        \n",
    "print \"\\n\\nOverall Best l2_penalty = %0.2f, as it gives lowest mse of %0.2f\" %(best_l2_penalty,min_mse)"
   ]
  },
  {
   "cell_type": "markdown",
   "metadata": {},
   "source": [
    "***17.QUIZ QUESTIONS:  What is the best value for the L2 penalty according to 10-fold validation?***"
   ]
  },
  {
   "cell_type": "markdown",
   "metadata": {},
   "source": [
    "You may find it useful to plot the k-fold cross-validation errors you have obtained to better understand the behavior of the method.  "
   ]
  },
  {
   "cell_type": "code",
   "execution_count": 80,
   "metadata": {
    "collapsed": false
   },
   "outputs": [
    {
     "data": {
      "image/png": "[encoded data removed]",
      "text/plain": [
       "<matplotlib.figure.Figure at 0x7f0880577b10>"
      ]
     },
     "metadata": {},
     "output_type": "display_data"
    }
   ],
   "source": [
    "# Plot the l2_penalty values in the x axis and the cross-validation error in the y axis.\n",
    "# Using plt.xscale('log') will make your plot more intuitive.\n",
    "plt.plot(l2_penalty_values,l2_penalty_mse,'k-')\n",
    "plt.xlabel('$\\ell_2$ penalty')\n",
    "plt.ylabel('K-fold cross validation error')\n",
    "plt.xscale('log')\n",
    "plt.yscale('log')"
   ]
  },
  {
   "cell_type": "markdown",
   "metadata": {},
   "source": [
    "**18.** Once you found the best value for the L2 penalty using cross-validation, it is important to retrain a final model on all of the training data using this value of `l2_penalty`.  This way, your final model will be trained on the entire dataset. Note that train_valid set was 90% of original data. We need to train model using all of this data. The test set (10% of data) will be used for final testing.\n",
    "\n",
    "*(train_valid, test) = sales.random_split(.9, seed=1)   #90% for train/validate , 10% for final testing*\n",
    "\n",
    "*train_valid_shuffled = gl.toolkits.cross_validation.shuffle(train_valid, random_seed=1)  #shuffle the training data*"
   ]
  },
  {
   "cell_type": "code",
   "execution_count": 84,
   "metadata": {
    "collapsed": false
   },
   "outputs": [
    {
     "name": "stdout",
     "output_type": "stream",
     "text": [
      "['power_1', 'power_2', 'power_3', 'power_4', 'power_5', 'power_6', 'power_7', 'power_8', 'power_9', 'power_10', 'power_11', 'power_12', 'power_13', 'power_14', 'power_15']\n",
      "+---------+-----------+---------------+-------------+---------------+\n",
      "| power_1 |  power_2  |    power_3    |   power_4   |    power_5    |\n",
      "+---------+-----------+---------------+-------------+---------------+\n",
      "|  2800.0 | 7840000.0 | 21952000000.0 | 6.14656e+13 | 1.7210368e+17 |\n",
      "+---------+-----------+---------------+-------------+---------------+\n",
      "+----------------+------------------+-------------------+-------------------+\n",
      "|    power_6     |     power_7      |      power_8      |      power_9      |\n",
      "+----------------+------------------+-------------------+-------------------+\n",
      "| 4.81890304e+20 | 1.3492928512e+24 | 3.77801998336e+27 | 1.05784559534e+31 |\n",
      "+----------------+------------------+-------------------+-------------------+\n",
      "+-------------------+-------------------+-------------------+------------------+\n",
      "|      power_10     |      power_11     |      power_12     |     power_13     |\n",
      "+-------------------+-------------------+-------------------+------------------+\n",
      "| 2.96196766695e+34 | 8.29350946747e+37 | 2.32218265089e+41 | 6.5021114225e+44 |\n",
      "+-------------------+-------------------+-------------------+------------------+\n",
      "+------------------+-------------------+----------+\n",
      "|     power_14     |      power_15     |  price   |\n",
      "+------------------+-------------------+----------+\n",
      "| 1.8205911983e+48 | 5.09765535524e+51 | 665000.0 |\n",
      "+------------------+-------------------+----------+\n",
      "[1 rows x 16 columns]\n",
      "\n"
     ]
    }
   ],
   "source": [
    "# generate a 15th-order polynomial using the sqft_living as input\n",
    "data = polynomial_sframe(train_valid_shuffled['sqft_living'], 15)\n",
    "data.head(1)\n",
    "\n",
    "# grab list of features\n",
    "features_list = data.column_names() # get the name of the features\n",
    "print features_list\n",
    "\n",
    "# add price to the data since it's the target we want to train model against\n",
    "data['price'] = train_valid_shuffled['price'] \n",
    "print data.head(1)\n",
    "\n",
    "model_bestl2 = gl.linear_regression.create(data, target = 'price',  \n",
    "                                              l2_penalty = best_l2_penalty, validation_set = None, verbose=False)"
   ]
  },
  {
   "cell_type": "markdown",
   "metadata": {},
   "source": [
    "***19. QUIZ QUESTION: Using the best L2 penalty found above, train a model using all training data. What is the RSS on the TEST data of the model you learn with this L2 penalty? ***"
   ]
  },
  {
   "cell_type": "code",
   "execution_count": 85,
   "metadata": {
    "collapsed": false
   },
   "outputs": [
    {
     "name": "stdout",
     "output_type": "stream",
     "text": [
      "1.26206664465e+14\n"
     ]
    }
   ],
   "source": [
    "# predict on validation set  - 1st get polynomial features using test data\n",
    "test_t = polynomial_sframe(test['sqft_living'], 15)\n",
    "# test_t now only contain polynomial features of sqft_living\n",
    "\n",
    "y_test_predicted = model_bestl2.predict(test_t)\n",
    "\n",
    "# compute squared error\n",
    "residuals = y_test_predicted - test['price']\n",
    "test_RSS =  (residuals**2).sum()\n",
    "print test_RSS"
   ]
  },
  {
   "cell_type": "code",
   "execution_count": null,
   "metadata": {
    "collapsed": true
   },
   "outputs": [],
   "source": []
  }
 ],
 "metadata": {
  "kernelspec": {
   "display_name": "Python 2",
   "language": "python",
   "name": "python2"
  },
  "language_info": {
   "codemirror_mode": {
    "name": "ipython",
    "version": 2
   },
   "file_extension": ".py",
   "mimetype": "text/x-python",
   "name": "python",
   "nbconvert_exporter": "python",
   "pygments_lexer": "ipython2",
   "version": "2.7.11"
  }
 },
 "nbformat": 4,
 "nbformat_minor": 0
}
