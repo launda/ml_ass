{
 "cells": [
  {
   "cell_type": "markdown",
   "metadata": {},
   "source": [
    "# Regression Week 4: Ridge Regression (gradient descent)"
   ]
  },
  {
   "cell_type": "markdown",
   "metadata": {},
   "source": [
    "In this notebook, you will implement ridge regression via gradient descent. You will:\n",
    "* Convert an SFrame into a Numpy array\n",
    "* Write a Numpy function to compute the derivative of the regression weights with respect to a single feature\n",
    "* Write gradient descent function to compute the regression weights given an initial weight vector, step size, tolerance, and L2 penalty"
   ]
  },
  {
   "cell_type": "markdown",
   "metadata": {},
   "source": [
    "# Fire up graphlab create"
   ]
  },
  {
   "cell_type": "markdown",
   "metadata": {},
   "source": [
    "Make sure you have the latest version of GraphLab Create (>= 1.7)"
   ]
  },
  {
   "cell_type": "code",
   "execution_count": 3,
   "metadata": {
    "collapsed": false
   },
   "outputs": [],
   "source": [
    "# import graphlab as gl\n",
    "import sframe as sf\n",
    "import numpy as np # note this allows us to refer to numpy as np instead "
   ]
  },
  {
   "cell_type": "markdown",
   "metadata": {},
   "source": [
    "# Load in house sales data\n",
    "\n",
    "Dataset is from house sales in King County, the region where the city of Seattle, WA is located."
   ]
  },
  {
   "cell_type": "code",
   "execution_count": 4,
   "metadata": {
    "collapsed": false
   },
   "outputs": [],
   "source": [
    "sales = sf.SFrame('../Week2/kc_house_data.gl/')"
   ]
  },
  {
   "cell_type": "markdown",
   "metadata": {},
   "source": [
    "If we want to do any \"feature engineering\" like creating new features or adjusting existing ones we should do this directly using the SFrames as seen in the first notebook of Week 2. For this notebook, however, we will work with the existing features."
   ]
  },
  {
   "cell_type": "markdown",
   "metadata": {},
   "source": [
    "# Import useful functions from previous notebook"
   ]
  },
  {
   "cell_type": "markdown",
   "metadata": {},
   "source": [
    "As in Week 2, we convert the SFrame into a 2D Numpy array. Copy and paste `get_numpy_data()` from the second notebook of Week 2."
   ]
  },
  {
   "cell_type": "code",
   "execution_count": 5,
   "metadata": {
    "collapsed": true
   },
   "outputs": [],
   "source": [
    "def get_numpy_data(data_sframe, features, output):\n",
    "    #   this is how we call this function\n",
    "    #   (example_features, example_output) = \n",
    "    #   get_numpy_data(sales, ['sqft_living'], 'price')\n",
    "    #   sales is the SFrame, features_list = ['sqft_living', ....], response = 'price')\n",
    "    \n",
    "    data_sframe['constant'] = 1 # this is how you add a new column to an SFrame, tis case 'constant'\n",
    "    \n",
    "    # add the column 'constant' to the front of the features list \n",
    "    # so that we can extract it along with the others:\n",
    "    features = ['constant'] + features # this is how you combine two lists\n",
    "    # features = 'constant' + features # this wont work!! - string constant add to a list\n",
    "    \n",
    "    # print \"print features\", features, \"\\n\"   prints nothing!!!\n",
    "    \n",
    "    # select the columns of data_SFrame given by the features list \n",
    "    # into the SFrame features_sframe (now including constant):\n",
    "    features_sframe = data_sframe[features]\n",
    "    # features_sframe = gl.SFrame.to_dataframe(data_sframe[features])  #if use gl.SFrame\n",
    "    # features_sframe = sf.SFrame.to_dataframe(data_sframe[features])\n",
    "    \n",
    "    print \"get_numpy_data(): print data_sframe = features_sframe(head 5)\\n\",features_sframe.head(5), \"\\n\"  \n",
    "    #prints the 2 columns constant and sqft_living\n",
    "    \n",
    "    # the following line will convert the features_SFrame into a numpy matrix:\n",
    "    feature_matrix = features_sframe.to_numpy()\n",
    "    len(feature_matrix)\n",
    "    print \"get_numpy_data(): print data_sframe converted to feature_matrix[0:5, :]\\n\",feature_matrix[0:5, :] , \"\\n\" \n",
    "    \n",
    "    # assign the column of data_sframe associated with the output to the SArray output_sarray\n",
    "    output_sarray = data_sframe[output]\n",
    "    \n",
    "    # the following will convert the SArray into a numpy array by first converting it to a list\n",
    "    output_array = output_sarray.to_numpy()\n",
    "    \n",
    "    return(feature_matrix, output_array)"
   ]
  },
  {
   "cell_type": "markdown",
   "metadata": {},
   "source": [
    "Also, copy and paste the `predict_output()` function to compute the predictions for an entire matrix of features given the matrix and the weights:"
   ]
  },
  {
   "cell_type": "code",
   "execution_count": 6,
   "metadata": {
    "collapsed": true
   },
   "outputs": [],
   "source": [
    "def predict_output(feature_matrix, weights):\n",
    "    # assume feature_matrix is a numpy matrix containing the features as columns \n",
    "    # and weights is a corresponding numpy array (our list of model coefficients)\n",
    "    # create the predictions vector by using np.dot()\n",
    "    \n",
    "    predictions = np.dot(feature_matrix, weights)\n",
    "    \n",
    "    return(predictions)"
   ]
  },
  {
   "cell_type": "markdown",
   "metadata": {},
   "source": [
    "# Computing the Derivative"
   ]
  },
  {
   "cell_type": "markdown",
   "metadata": {},
   "source": [
    "We are now going to move to computing the derivative of the regression cost function. Recall that the cost function is the sum over the data points of the squared difference between an observed output and a predicted output, plus the L2 penalty term.\n",
    "```\n",
    "Cost(w)\n",
    "= SUM[ (prediction - output)^2 ]\n",
    "+ l2_penalty*(w[0]^2 + w[1]^2 + ... + w[k]^2).\n",
    "```\n",
    "\n",
    "Since the derivative of a sum is the sum of the derivatives, we can take the derivative of the first part (the RSS) as we did in the notebook for the unregularized case in Week 2 and add the derivative of the regularization part.  As we saw, the derivative of the RSS with respect to `w[i]` can be written as: \n",
    "```\n",
    "2*SUM[ error*[feature_i] ].\n",
    "```\n",
    "The derivative of the regularization term with respect to `w[i]` is:\n",
    "```\n",
    "2*l2_penalty*w[i].\n",
    "```\n",
    "Summing both, we get\n",
    "```\n",
    "2*SUM[ error*[feature_i] ] + 2*l2_penalty*w[i].\n",
    "```\n",
    "That is, the derivative for the weight for feature i is the sum (over data points) of 2 times the product of the error and the feature itself, plus `2*l2_penalty*w[i]`. \n",
    "\n",
    "**We will not regularize the constant.**  Thus, in the case of the constant, the derivative is just twice the sum of the errors (without the `2*l2_penalty*w[0]` term).\n",
    "\n",
    "Recall that twice the sum of the product of two vectors is just twice the dot product of the two vectors. Therefore the derivative for the weight for feature_i is just two times the dot product between the values of feature_i and the current errors, plus `2*l2_penalty*w[i]`.\n",
    "\n",
    "With this in mind complete the following derivative function which computes the derivative of the weight given the value of the feature (over all data points) and the errors (over all data points).  To decide when to we are dealing with the constant (so we don't regularize it) we added the extra parameter to the call `feature_is_constant` which you should set to `True` when computing the derivative of the constant and `False` otherwise."
   ]
  },
  {
   "cell_type": "code",
   "execution_count": 7,
   "metadata": {
    "collapsed": true
   },
   "outputs": [],
   "source": [
    "def feature_derivative_ridge(errors, feature, weight, l2_penalty, feature_is_constant):\n",
    "    # Assume that errors and feature are both numpy arrays of the same length (number of data points)\n",
    "\n",
    "    # If feature_is_constant is True, derivative is twice the dot product of errors and feature\n",
    "    # Otherwise, derivative is twice the dot product plus 2*l2_penalty*weight\n",
    "    if feature_is_constant is True:\n",
    "        derivative = 2 * np.dot(errors,feature)\n",
    "    else:\n",
    "        derivative = 2 * np.dot(errors,feature) + 2 * l2_penalty * weight\n",
    "    \n",
    "    \n",
    "    return derivative"
   ]
  },
  {
   "cell_type": "markdown",
   "metadata": {},
   "source": [
    "To test your feature derivartive run the following:"
   ]
  },
  {
   "cell_type": "code",
   "execution_count": 8,
   "metadata": {
    "collapsed": false
   },
   "outputs": [
    {
     "name": "stdout",
     "output_type": "stream",
     "text": [
      "get_numpy_data(): print data_sframe = features_sframe(head 5)\n",
      "+----------+-------------+\n",
      "| constant | sqft_living |\n",
      "+----------+-------------+\n",
      "|    1     |    1180.0   |\n",
      "|    1     |    2570.0   |\n",
      "|    1     |    770.0    |\n",
      "|    1     |    1960.0   |\n",
      "|    1     |    1680.0   |\n",
      "+----------+-------------+\n",
      "[5 rows x 2 columns]\n",
      " \n",
      "\n",
      "get_numpy_data(): print data_sframe converted to feature_matrix[0:5, :]\n",
      "[[  1.00000000e+00   1.18000000e+03]\n",
      " [  1.00000000e+00   2.57000000e+03]\n",
      " [  1.00000000e+00   7.70000000e+02]\n",
      " [  1.00000000e+00   1.96000000e+03]\n",
      " [  1.00000000e+00   1.68000000e+03]] \n",
      "\n",
      "-5.65541667824e+13\n",
      "-5.65541667824e+13\n",
      "\n",
      "-22446749336.0\n",
      "-22446749336.0\n"
     ]
    }
   ],
   "source": [
    "(example_features, example_output) = get_numpy_data(sales, ['sqft_living'], 'price') \n",
    "my_weights = np.array([1., 10.])\n",
    "test_predictions = predict_output(example_features, my_weights) \n",
    "errors = test_predictions - example_output # prediction errors\n",
    "\n",
    "# next two lines should print the same values\n",
    "print feature_derivative_ridge(errors, example_features[:,1], my_weights[1], 1, False)\n",
    "print np.sum(errors*example_features[:,1])*2+20.\n",
    "print ''\n",
    "\n",
    "# next two lines should print the same values\n",
    "print feature_derivative_ridge(errors, example_features[:,0], my_weights[0], 1, True)\n",
    "print np.sum(errors)*2."
   ]
  },
  {
   "cell_type": "markdown",
   "metadata": {},
   "source": [
    "# Gradient Descent"
   ]
  },
  {
   "cell_type": "markdown",
   "metadata": {},
   "source": [
    "Now we will write a function that performs a gradient descent. The basic premise is simple. Given a starting point we update the current weights by moving in the negative gradient direction. Recall that the gradient is the direction of *increase* and therefore the negative gradient is the direction of *decrease* and we're trying to *minimize* a cost function. \n",
    "\n",
    "The amount by which we move in the negative gradient *direction*  is called the 'step size'. We stop when we are 'sufficiently close' to the optimum. Unlike in Week 2, this time we will set a **maximum number of iterations** and take gradient steps until we reach this maximum number. If no maximum number is supplied, the maximum should be set 100 by default. (Use default parameter values in Python.)\n",
    "\n",
    "With this in mind, complete the following gradient descent function below using your derivative function above. For each step in the gradient descent, we update the weight for each feature before computing our stopping criteria."
   ]
  },
  {
   "cell_type": "code",
   "execution_count": 9,
   "metadata": {
    "collapsed": false
   },
   "outputs": [],
   "source": [
    "def ridge_regression_gradient_descent(feature_matrix, output, initial_weights, step_size, l2_penalty, max_iterations=100):\n",
    "    weights = np.array(initial_weights) # make sure it's a numpy array\n",
    "    \n",
    "    #while not reached maximum number of iterations:\n",
    "    for i in xrange(max_iterations):\n",
    "        # compute the predictions based on feature_matrix and weights using your predict_output() function\n",
    "        predictions = predict_output(feature_matrix, weights)\n",
    "        # compute the errors as predictions - output\n",
    "        errors = predictions - output\n",
    "\n",
    "        for i in xrange(len(weights)): # loop over each weight\n",
    "            # Recall that feature_matrix[:,i] is the feature column associated with weights[i]\n",
    "            # compute the derivative for weight[i].\n",
    "            #(Remember: when i=0, you are computing the derivative of the constant!)\n",
    "            feature = feature_matrix[: ,i] \n",
    "            if i == 0:\n",
    "                derivative = feature_derivative_ridge(errors, feature, weights[i], l2_penalty, 'TRUE')\n",
    "            else:\n",
    "                derivative = feature_derivative_ridge(errors, feature, weights[i], l2_penalty, 'FALSE')\n",
    "                \n",
    "            # subtract the step size times the derivative from the current weight\n",
    "            weights[i] -= (step_size*derivative)\n",
    "            #print \"\\t derivative = \", derivative  \n",
    "            #print \"\\t Weights = \", weights\n",
    "            \n",
    "    return weights"
   ]
  },
  {
   "cell_type": "markdown",
   "metadata": {},
   "source": [
    "# Visualizing effect of L2 penalty"
   ]
  },
  {
   "cell_type": "markdown",
   "metadata": {},
   "source": [
    "The L2 penalty gets its name because it causes weights to have small L2 norms than otherwise. Let's see how large weights get penalized. Let us consider a simple model with 1 feature:"
   ]
  },
  {
   "cell_type": "code",
   "execution_count": 10,
   "metadata": {
    "collapsed": true
   },
   "outputs": [],
   "source": [
    "simple_features = ['sqft_living']\n",
    "my_output = 'price'"
   ]
  },
  {
   "cell_type": "markdown",
   "metadata": {},
   "source": [
    "Let us split the dataset into training set and test set. Make sure to use `seed=0`:"
   ]
  },
  {
   "cell_type": "code",
   "execution_count": 11,
   "metadata": {
    "collapsed": true
   },
   "outputs": [],
   "source": [
    "train_data,test_data = sales.random_split(.8,seed=0)"
   ]
  },
  {
   "cell_type": "markdown",
   "metadata": {},
   "source": [
    "In this part, we will only use `'sqft_living'` to predict `'price'`. Use the `get_numpy_data` function to get a Numpy versions of your data with only this feature, for both the `train_data` and the `test_data`. "
   ]
  },
  {
   "cell_type": "code",
   "execution_count": 12,
   "metadata": {
    "collapsed": false
   },
   "outputs": [
    {
     "name": "stdout",
     "output_type": "stream",
     "text": [
      "get_numpy_data(): print data_sframe = features_sframe(head 5)\n",
      "+----------+-------------+\n",
      "| constant | sqft_living |\n",
      "+----------+-------------+\n",
      "|    1     |    1180.0   |\n",
      "|    1     |    2570.0   |\n",
      "|    1     |    770.0    |\n",
      "|    1     |    1960.0   |\n",
      "|    1     |    1680.0   |\n",
      "+----------+-------------+\n",
      "[5 rows x 2 columns]\n",
      " \n",
      "\n",
      "get_numpy_data(): print data_sframe converted to feature_matrix[0:5, :]\n",
      "[[  1.00000000e+00   1.18000000e+03]\n",
      " [  1.00000000e+00   2.57000000e+03]\n",
      " [  1.00000000e+00   7.70000000e+02]\n",
      " [  1.00000000e+00   1.96000000e+03]\n",
      " [  1.00000000e+00   1.68000000e+03]] \n",
      "\n",
      "get_numpy_data(): print data_sframe = features_sframe(head 5)\n",
      "+----------+-------------+\n",
      "| constant | sqft_living |\n",
      "+----------+-------------+\n",
      "|    1     |    1430.0   |\n",
      "|    1     |    2950.0   |\n",
      "|    1     |    1710.0   |\n",
      "|    1     |    2320.0   |\n",
      "|    1     |    1090.0   |\n",
      "+----------+-------------+\n",
      "[5 rows x 2 columns]\n",
      " \n",
      "\n",
      "get_numpy_data(): print data_sframe converted to feature_matrix[0:5, :]\n",
      "[[  1.00000000e+00   1.43000000e+03]\n",
      " [  1.00000000e+00   2.95000000e+03]\n",
      " [  1.00000000e+00   1.71000000e+03]\n",
      " [  1.00000000e+00   2.32000000e+03]\n",
      " [  1.00000000e+00   1.09000000e+03]] \n",
      "\n"
     ]
    }
   ],
   "source": [
    "(simple_feature_matrix, output) = get_numpy_data(train_data, simple_features, my_output)\n",
    "(simple_test_feature_matrix, test_output) = get_numpy_data(test_data, simple_features, my_output)"
   ]
  },
  {
   "cell_type": "markdown",
   "metadata": {},
   "source": [
    "Let's set the parameters for our optimization:"
   ]
  },
  {
   "cell_type": "code",
   "execution_count": 13,
   "metadata": {
    "collapsed": true
   },
   "outputs": [],
   "source": [
    "initial_weights = np.array([0., 0.])\n",
    "step_size = 1e-12\n",
    "max_iterations=1000"
   ]
  },
  {
   "cell_type": "markdown",
   "metadata": {},
   "source": [
    "First, let's consider no regularization.  Set the `l2_penalty` to `0.0` and run your ridge regression algorithm to learn the weights of your model.  Call your weights:\n",
    "\n",
    "`simple_weights_0_penalty`\n",
    "\n",
    "we'll use them later."
   ]
  },
  {
   "cell_type": "code",
   "execution_count": 14,
   "metadata": {
    "collapsed": false
   },
   "outputs": [
    {
     "name": "stdout",
     "output_type": "stream",
     "text": [
      "simple_weights_0_penalty [  7.88199720e-02   2.63024271e+02]\n"
     ]
    }
   ],
   "source": [
    "l2_penalty = 0.0 \n",
    "simple_weights_0_penalty = ridge_regression_gradient_descent(simple_feature_matrix, output, initial_weights, step_size, l2_penalty, 100)\n",
    "print \"simple_weights_0_penalty\", simple_weights_0_penalty"
   ]
  },
  {
   "cell_type": "markdown",
   "metadata": {},
   "source": [
    "Next, let's consider high regularization.  Set the `l2_penalty` to `1e11` and run your ridge regression algorithm to learn the weights of your model.  Call your weights:\n",
    "\n",
    "`simple_weights_high_penalty`\n",
    "\n",
    "we'll use them later."
   ]
  },
  {
   "cell_type": "code",
   "execution_count": 15,
   "metadata": {
    "collapsed": false
   },
   "outputs": [
    {
     "name": "stdout",
     "output_type": "stream",
     "text": [
      "simple_weights_high_penalty [  4.87184758e-02   1.24574021e+02]\n"
     ]
    }
   ],
   "source": [
    "l2_penalty = 1e11\n",
    "simple_weights_high_penalty = ridge_regression_gradient_descent(simple_feature_matrix, output, initial_weights, step_size, l2_penalty, 100)\n",
    "print \"simple_weights_high_penalty\", simple_weights_high_penalty"
   ]
  },
  {
   "cell_type": "markdown",
   "metadata": {},
   "source": [
    "This code will plot the two learned models.  (The red line is for the model with no regularization and the green line is for the one with high regularization.)"
   ]
  },
  {
   "cell_type": "code",
   "execution_count": 16,
   "metadata": {
    "collapsed": false
   },
   "outputs": [
    {
     "data": {
      "text/plain": [
       "[<matplotlib.lines.Line2D at 0x7ff6f8962d10>,\n",
       " <matplotlib.lines.Line2D at 0x7ff6f8962e10>,\n",
       " <matplotlib.lines.Line2D at 0x7ff6f8977050>,\n",
       " <matplotlib.lines.Line2D at 0x7ff6f8977c10>,\n",
       " <matplotlib.lines.Line2D at 0x7ff6f8977d50>,\n",
       " <matplotlib.lines.Line2D at 0x7ff6f89848d0>]"
      ]
     },
     "execution_count": 16,
     "metadata": {},
     "output_type": "execute_result"
    },
    {
     "data": {
      "image/png": "[encoded data removed]",
      "text/plain": [
       "<matplotlib.figure.Figure at 0x7ff70c842890>"
      ]
     },
     "metadata": {},
     "output_type": "display_data"
    }
   ],
   "source": [
    "import matplotlib.pyplot as plt\n",
    "%matplotlib inline\n",
    "plt.plot(simple_feature_matrix,output,'b.',\n",
    "         simple_feature_matrix,predict_output(simple_feature_matrix, simple_weights_0_penalty),'r-',\n",
    "        simple_feature_matrix,predict_output(simple_feature_matrix, simple_weights_high_penalty),'g-')"
   ]
  },
  {
   "cell_type": "markdown",
   "metadata": {},
   "source": [
    "Compute the RSS on the TEST data for the following three sets of weights:\n",
    "1. The initial weights (all zeros)\n",
    "2. The weights learned with no regularization\n",
    "3. The weights learned with high regularization\n",
    "\n",
    "Which weights perform best?"
   ]
  },
  {
   "cell_type": "code",
   "execution_count": 17,
   "metadata": {
    "collapsed": false
   },
   "outputs": [
    {
     "name": "stdout",
     "output_type": "stream",
     "text": [
      "[ 0.  0.]\n",
      "1.78427328252e+15\n"
     ]
    }
   ],
   "source": [
    "# (simple_test_feature_matrix, test_output) = get_numpy_data(test_data, simple_features, my_output)\n",
    "## The initial weights (all zeros)\n",
    "print initial_weights\n",
    "simple_predictions1 = predict_output(simple_test_feature_matrix,  initial_weights) \n",
    "residuals1 = np.array(test_data['price'])  - simple_predictions1 \n",
    "RSS1 = (residuals1*residuals1).sum()\n",
    "print RSS1"
   ]
  },
  {
   "cell_type": "code",
   "execution_count": 18,
   "metadata": {
    "collapsed": false
   },
   "outputs": [
    {
     "name": "stdout",
     "output_type": "stream",
     "text": [
      "[  7.88199720e-02   2.63024271e+02]\n",
      "2.75723643935e+14\n"
     ]
    }
   ],
   "source": [
    "## The weights learned with no regularization\n",
    "print simple_weights_0_penalty\n",
    "simple_predictions2 = predict_output(simple_test_feature_matrix, simple_weights_0_penalty) \n",
    "residuals2 = np.array(test_data['price'])  - simple_predictions2  \n",
    "RSS2 = (residuals2*residuals2).sum()\n",
    "print RSS2"
   ]
  },
  {
   "cell_type": "code",
   "execution_count": 19,
   "metadata": {
    "collapsed": false
   },
   "outputs": [
    {
     "name": "stdout",
     "output_type": "stream",
     "text": [
      "[  4.87184758e-02   1.24574021e+02]\n",
      "6.94654309003e+14\n"
     ]
    }
   ],
   "source": [
    "## The weights learned with high regularization\n",
    "print simple_weights_high_penalty\n",
    "simple_predictions3 = predict_output(simple_test_feature_matrix, simple_weights_high_penalty) \n",
    "residuals3 = np.array(test_data['price'])  - simple_predictions3  \n",
    "RSS3 = (residuals3*residuals3).sum()\n",
    "print RSS3"
   ]
  },
  {
   "cell_type": "markdown",
   "metadata": {
    "collapsed": false
   },
   "source": [
    "***QUIZ QUESTIONS***\n",
    "1. What is the value of the coefficient for `sqft_living` that you learned with no regularization, rounded to 1 decimal place?  What about the one with high regularization? \n",
    "263.0 for no regularlization, 124.6 for no regularlization\n",
    "2. Comparing the lines you fit with the with no regularization versus high regularization, which one is steeper?\n",
    "The fitted line we get with no regularlization is steeper, also seen from fact that itsa got higher slope term 263 vs 124 \n",
    "3. What are the RSS on the test data for each of the set of weights above (initial, no regularization, high regularization)? \n",
    "\n",
    "Lowest RSS with no regularlization, the steeper curve is closer to more data points so lower RSS, lower bias."
   ]
  },
  {
   "cell_type": "markdown",
   "metadata": {},
   "source": [
    "# Running a multiple regression with L2 penalty"
   ]
  },
  {
   "cell_type": "markdown",
   "metadata": {},
   "source": [
    "Let us now consider a model with 2 features: `['sqft_living', 'sqft_living15']`."
   ]
  },
  {
   "cell_type": "markdown",
   "metadata": {},
   "source": [
    "First, create Numpy versions of your training and test data with these two features. "
   ]
  },
  {
   "cell_type": "code",
   "execution_count": 20,
   "metadata": {
    "collapsed": false
   },
   "outputs": [
    {
     "name": "stdout",
     "output_type": "stream",
     "text": [
      "get_numpy_data(): print data_sframe = features_sframe(head 5)\n",
      "+----------+-------------+---------------+\n",
      "| constant | sqft_living | sqft_living15 |\n",
      "+----------+-------------+---------------+\n",
      "|    1     |    1180.0   |     1340.0    |\n",
      "|    1     |    2570.0   |     1690.0    |\n",
      "|    1     |    770.0    |     2720.0    |\n",
      "|    1     |    1960.0   |     1360.0    |\n",
      "|    1     |    1680.0   |     1800.0    |\n",
      "+----------+-------------+---------------+\n",
      "[5 rows x 3 columns]\n",
      " \n",
      "\n",
      "get_numpy_data(): print data_sframe converted to feature_matrix[0:5, :]\n",
      "[[  1.00000000e+00   1.18000000e+03   1.34000000e+03]\n",
      " [  1.00000000e+00   2.57000000e+03   1.69000000e+03]\n",
      " [  1.00000000e+00   7.70000000e+02   2.72000000e+03]\n",
      " [  1.00000000e+00   1.96000000e+03   1.36000000e+03]\n",
      " [  1.00000000e+00   1.68000000e+03   1.80000000e+03]] \n",
      "\n",
      "get_numpy_data(): print data_sframe = features_sframe(head 5)\n",
      "+----------+-------------+---------------+\n",
      "| constant | sqft_living | sqft_living15 |\n",
      "+----------+-------------+---------------+\n",
      "|    1     |    1430.0   |     1780.0    |\n",
      "|    1     |    2950.0   |     2140.0    |\n",
      "|    1     |    1710.0   |     1030.0    |\n",
      "|    1     |    2320.0   |     2580.0    |\n",
      "|    1     |    1090.0   |     1570.0    |\n",
      "+----------+-------------+---------------+\n",
      "[5 rows x 3 columns]\n",
      " \n",
      "\n",
      "get_numpy_data(): print data_sframe converted to feature_matrix[0:5, :]\n",
      "[[  1.00000000e+00   1.43000000e+03   1.78000000e+03]\n",
      " [  1.00000000e+00   2.95000000e+03   2.14000000e+03]\n",
      " [  1.00000000e+00   1.71000000e+03   1.03000000e+03]\n",
      " [  1.00000000e+00   2.32000000e+03   2.58000000e+03]\n",
      " [  1.00000000e+00   1.09000000e+03   1.57000000e+03]] \n",
      "\n"
     ]
    }
   ],
   "source": [
    "model_features = ['sqft_living', 'sqft_living15'] # sqft_living15 is the average squarefeet for the nearest 15 neighbors. \n",
    "my_output = 'price'\n",
    "(feature_matrix, output) = get_numpy_data(train_data, model_features, my_output)\n",
    "(test_feature_matrix, test_output) = get_numpy_data(test_data, model_features, my_output)"
   ]
  },
  {
   "cell_type": "markdown",
   "metadata": {},
   "source": [
    "We need to re-inialize the weights, since we have one extra parameter. Let us also set the step size and maximum number of iterations."
   ]
  },
  {
   "cell_type": "code",
   "execution_count": 21,
   "metadata": {
    "collapsed": true
   },
   "outputs": [],
   "source": [
    "initial_weights = np.array([0.0,0.0,0.0])\n",
    "step_size = 1e-12\n",
    "max_iterations = 1000"
   ]
  },
  {
   "cell_type": "markdown",
   "metadata": {},
   "source": [
    "First, let's consider no regularization.  Set the `l2_penalty` to `0.0` and run your ridge regression algorithm to learn the weights of your model.  Call your weights:\n",
    "\n",
    "`multiple_weights_0_penalty`"
   ]
  },
  {
   "cell_type": "code",
   "execution_count": 22,
   "metadata": {
    "collapsed": false
   },
   "outputs": [
    {
     "name": "stdout",
     "output_type": "stream",
     "text": [
      "multiple_weights_0_penalty [  1.80292509e-03   1.87808775e+02   8.24046825e+01]\n"
     ]
    }
   ],
   "source": [
    "l2_penalty = 0.0\n",
    "multiple_weights_0_penalty = ridge_regression_gradient_descent(feature_matrix, output, initial_weights, step_size, l2_penalty, 100)\n",
    "print \"multiple_weights_0_penalty\", multiple_weights_0_penalty"
   ]
  },
  {
   "cell_type": "markdown",
   "metadata": {},
   "source": [
    "Next, let's consider high regularization.  Set the `l2_penalty` to `1e11` and run your ridge regression algorithm to learn the weights of your model.  Call your weights:\n",
    "\n",
    "`multiple_weights_high_penalty`"
   ]
  },
  {
   "cell_type": "code",
   "execution_count": 23,
   "metadata": {
    "collapsed": false
   },
   "outputs": [
    {
     "name": "stdout",
     "output_type": "stream",
     "text": [
      "multiple_weights_high_penalty [  3.36011656e-02   9.14901675e+01   7.84374904e+01]\n"
     ]
    }
   ],
   "source": [
    "l2_penalty = 1e11 \n",
    "multiple_weights_high_penalty = ridge_regression_gradient_descent(feature_matrix, output, initial_weights, step_size, l2_penalty, 100)\n",
    "print \"multiple_weights_high_penalty\", multiple_weights_high_penalty"
   ]
  },
  {
   "cell_type": "markdown",
   "metadata": {},
   "source": [
    "Compute the RSS on the TEST data for the following three sets of weights:\n",
    "1. The initial weights (all zeros)\n",
    "2. The weights learned with no regularization\n",
    "3. The weights learned with high regularization\n",
    "\n",
    "Which weights perform best?  multiple_weights_0_penalty   - lowest RSS"
   ]
  },
  {
   "cell_type": "code",
   "execution_count": 24,
   "metadata": {
    "collapsed": false
   },
   "outputs": [
    {
     "name": "stdout",
     "output_type": "stream",
     "text": [
      "[ 0.  0.  0.]\n",
      "1.78427328252e+15\n"
     ]
    }
   ],
   "source": [
    "# (simple_test_feature_matrix, test_output) = get_numpy_data(test_data, simple_features, my_output)\n",
    "## The initial weights (all zeros)\n",
    "print initial_weights\n",
    "predictions1 = predict_output(test_feature_matrix,  initial_weights) \n",
    "residuals1 = np.array(test_data['price'])  - predictions1 \n",
    "RSS1 = (residuals1*residuals1).sum()\n",
    "print RSS1"
   ]
  },
  {
   "cell_type": "code",
   "execution_count": 25,
   "metadata": {
    "collapsed": false
   },
   "outputs": [
    {
     "name": "stdout",
     "output_type": "stream",
     "text": [
      "[  1.80292509e-03   1.87808775e+02   8.24046825e+01]\n",
      "2.7600229659e+14\n"
     ]
    }
   ],
   "source": [
    "## The weights learned with no regularization\n",
    "print multiple_weights_0_penalty \n",
    "predictions2 = predict_output(test_feature_matrix, multiple_weights_0_penalty) \n",
    "residuals2 = np.array(test_data['price'])  - predictions2  \n",
    "RSS2 = (residuals2*residuals2).sum()\n",
    "print RSS2"
   ]
  },
  {
   "cell_type": "code",
   "execution_count": 26,
   "metadata": {
    "collapsed": false
   },
   "outputs": [
    {
     "name": "stdout",
     "output_type": "stream",
     "text": [
      "[  3.36011656e-02   9.14901675e+01   7.84374904e+01]\n",
      "5.00408530316e+14\n"
     ]
    }
   ],
   "source": [
    "## The weights learned with high regularization\n",
    "print multiple_weights_high_penalty\n",
    "predictions3 = predict_output(test_feature_matrix, multiple_weights_high_penalty) \n",
    "residuals3 = np.array(test_data['price'])  - predictions3  \n",
    "RSS3 = (residuals3*residuals3).sum()\n",
    "print RSS3"
   ]
  },
  {
   "cell_type": "markdown",
   "metadata": {},
   "source": [
    "Predict the house price for the 1st house in the test set using the no regularization and high regularization models. (Remember that python starts indexing from 0.) How far is the prediction from the actual price?  Which weights perform best for the 1st house?  weights learned with high regularization perform better with 1st house."
   ]
  },
  {
   "cell_type": "code",
   "execution_count": 27,
   "metadata": {
    "collapsed": false
   },
   "outputs": [
    {
     "name": "stdout",
     "output_type": "stream",
     "text": [
      "[  1.80292509e-03   1.87808775e+02   8.24046825e+01]\n",
      "415246.884564\n",
      "310000.0\n",
      "-105246.884564\n",
      "True\n"
     ]
    }
   ],
   "source": [
    "print multiple_weights_0_penalty \n",
    "print predictions2[0]\n",
    "print test_data['price'][0] \n",
    "print (test_data['price'][0] - predictions2[0])\n",
    "print residuals2[0] == (test_data['price'][0] - predictions2[0])"
   ]
  },
  {
   "cell_type": "code",
   "execution_count": 28,
   "metadata": {
    "collapsed": false
   },
   "outputs": [
    {
     "name": "stdout",
     "output_type": "stream",
     "text": [
      "[  3.36011656e-02   9.14901675e+01   7.84374904e+01]\n",
      "270449.706011\n",
      "310000.0\n",
      "39550.2939892\n",
      "True\n"
     ]
    }
   ],
   "source": [
    "print multiple_weights_high_penalty\n",
    "print predictions3[0]\n",
    "print test_data['price'][0] \n",
    "print (test_data['price'][0] - predictions3[0])\n",
    "print residuals3[0] == (test_data['price'][0] - predictions3[0])"
   ]
  },
  {
   "cell_type": "markdown",
   "metadata": {
    "collapsed": true
   },
   "source": [
    "***QUIZ QUESTIONS***\n",
    "1. What is the value of the coefficient for `sqft_living` that you learned with no regularization, rounded to 1 decimal place?  What about the one with high regularization? \n",
    "187.8  Vs 91.5\n",
    "2. What are the RSS on the test data for each of the set of weights above (initial, no regularization, high regularization)? \n",
    "3. We make prediction for the first house in the test set using two sets of weights (no regularization vs high regularization). Which weights make better prediction <u>for that particular house</u>? weights learned with high regularization perform better with 1st house."
   ]
  }
 ],
 "metadata": {
  "kernelspec": {
   "display_name": "Python 2",
   "language": "python",
   "name": "python2"
  },
  "language_info": {
   "codemirror_mode": {
    "name": "ipython",
    "version": 2
   },
   "file_extension": ".py",
   "mimetype": "text/x-python",
   "name": "python",
   "nbconvert_exporter": "python",
   "pygments_lexer": "ipython2",
   "version": "2.7.11"
  }
 },
 "nbformat": 4,
 "nbformat_minor": 0
}
