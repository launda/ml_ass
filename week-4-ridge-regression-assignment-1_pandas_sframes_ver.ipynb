{
 "cells": [
  {
   "cell_type": "markdown",
   "metadata": {},
   "source": [
    "# Regression Week 4: Ridge Regression (interpretation)\n",
    "### pandas version"
   ]
  },
  {
   "cell_type": "markdown",
   "metadata": {},
   "source": [
    "In this notebook, we will run ridge regression multiple times with different L2 penalties to see which one produces the best fit. We will revisit the example of polynomial regression as a means to see the effect of L2 regularization. In particular, we will:\n",
    "* Use a pre-built implementation of regression (GraphLab Create) to run polynomial regression\n",
    "* Use matplotlib to visualize polynomial regressions\n",
    "* Use a pre-built implementation of regression (GraphLab Create) to run polynomial regression, this time with L2 penalty\n",
    "* Use matplotlib to visualize polynomial regressions under L2 regularization\n",
    "* Choose best L2 penalty using cross-validation.\n",
    "* Assess the final fit using test data.\n",
    "\n",
    "**1.** We will continue to use the House data from previous notebooks.  (In the next programming assignment for this module, you will implement your own ridge regression learning algorithm using gradient descent.)"
   ]
  },
  {
   "cell_type": "markdown",
   "metadata": {},
   "source": [
    "# Fire up graphlab create"
   ]
  },
  {
   "cell_type": "code",
   "execution_count": 42,
   "metadata": {
    "collapsed": false
   },
   "outputs": [],
   "source": [
    "#import graphlab as gl\n",
    "import math\n",
    "import random\n",
    "import numpy as np\n",
    "import pandas as pd\n",
    "import sframe as sf"
   ]
  },
  {
   "cell_type": "markdown",
   "metadata": {},
   "source": [
    "# Polynomial regression, revisited"
   ]
  },
  {
   "cell_type": "markdown",
   "metadata": {},
   "source": [
    "**2.** We build on the material from Week 3, where we wrote the function to produce an SFrame with columns containing the powers of a given input. Copy and paste the function `polynomial_sframe` from Week 3:"
   ]
  },
  {
   "cell_type": "code",
   "execution_count": 43,
   "metadata": {
    "collapsed": false
   },
   "outputs": [],
   "source": [
    "def polynomial_sframe(feature, degree):\n",
    "    # assume that degree >= 1\n",
    "    \n",
    "    # create and initialize a new empty SFrame:\n",
    "    poly_sframe = sf.SFrame()\n",
    "    \n",
    "    # create a new column/feature 'power_1' and \n",
    "    # set poly_sframe['power_1'] equal to the passed feature\n",
    "    poly_sframe['power_1'] = feature\n",
    "    \n",
    "    # first check if degree > 1\n",
    "    if degree > 1:\n",
    "        # then loop over the remaining degrees:\n",
    "        # range usually starts at 0 and stops at the endpoint-1. We want it to start at 2 and stop at degree\n",
    "        for power in range(2, degree+1): \n",
    "            # first we'll give the column a name:\n",
    "            name = 'power_' + str(power)\n",
    "            \n",
    "            # then assign poly_sframe[name] to the appropriate power of feature\n",
    "            # poly_sframe[name] = feature.apply(lambda x: x**power)\n",
    "            poly_sframe[name] = poly_sframe['power_1'].apply(lambda x: x**power)\n",
    "            \n",
    "    return poly_sframe  #returns the sframe created"
   ]
  },
  {
   "cell_type": "code",
   "execution_count": 44,
   "metadata": {
    "collapsed": true
   },
   "outputs": [],
   "source": [
    "def polynomial_pdframe(feature, degree):\n",
    "    # assume that degree >= 1\n",
    "    \n",
    "    # create and initialize a new pandas dataframe:\n",
    "    # when using Pandas, feature is pandas.Series type\n",
    "    poly_pdframe = pd.DataFrame()\n",
    "    \n",
    "    #rest of code will be same\n",
    "    \n",
    "    # create a new column/feature 'power_1' and \n",
    "    # set poly_sframe['power_1'] equal to the passed feature\n",
    "    poly_pdframe['power_1'] = feature\n",
    "    \n",
    "    # first check if degree > 1\n",
    "    if degree > 1:\n",
    "        # then loop over the remaining degrees:\n",
    "        # range usually starts at 0 and stops at the endpoint-1. We want it to start at 2 and stop at degree\n",
    "        for power in range(2, degree+1): \n",
    "            # first we'll give the column a name:\n",
    "            name = 'power_' + str(power)\n",
    "            \n",
    "            # then assign poly_sframe[name] to the appropriate power of feature\n",
    "            # poly_sframe[name] = feature.apply(lambda x: x**power)\n",
    "            poly_pdframe[name] = poly_pdframe['power_1'].apply(lambda x: x**power)\n",
    "            \n",
    "    return poly_pdframe  #returns the sframe created"
   ]
  },
  {
   "cell_type": "markdown",
   "metadata": {},
   "source": [
    "Let's use matplotlib to visualize what a polynomial regression looks like on the house data."
   ]
  },
  {
   "cell_type": "code",
   "execution_count": 45,
   "metadata": {
    "collapsed": false
   },
   "outputs": [],
   "source": [
    "import matplotlib.pyplot as plt\n",
    "%matplotlib inline"
   ]
  },
  {
   "cell_type": "code",
   "execution_count": 46,
   "metadata": {
    "collapsed": false
   },
   "outputs": [
    {
     "data": {
      "text/html": [
       "<pre>Finished parsing file /mnt/win-data/shared/stats-R/ml_specialization/machine-learning-specialization/course-2/Week2/kc_house_data.csv</pre>"
      ],
      "text/plain": [
       "Finished parsing file /mnt/win-data/shared/stats-R/ml_specialization/machine-learning-specialization/course-2/Week2/kc_house_data.csv"
      ]
     },
     "metadata": {},
     "output_type": "display_data"
    },
    {
     "data": {
      "text/html": [
       "<pre>Parsing completed. Parsed 100 lines in 0.046807 secs.</pre>"
      ],
      "text/plain": [
       "Parsing completed. Parsed 100 lines in 0.046807 secs."
      ]
     },
     "metadata": {},
     "output_type": "display_data"
    },
    {
     "data": {
      "text/html": [
       "<pre>Finished parsing file /mnt/win-data/shared/stats-R/ml_specialization/machine-learning-specialization/course-2/Week2/kc_house_data.csv</pre>"
      ],
      "text/plain": [
       "Finished parsing file /mnt/win-data/shared/stats-R/ml_specialization/machine-learning-specialization/course-2/Week2/kc_house_data.csv"
      ]
     },
     "metadata": {},
     "output_type": "display_data"
    },
    {
     "data": {
      "text/html": [
       "<pre>Parsing completed. Parsed 21613 lines in 0.061791 secs.</pre>"
      ],
      "text/plain": [
       "Parsing completed. Parsed 21613 lines in 0.061791 secs."
      ]
     },
     "metadata": {},
     "output_type": "display_data"
    },
    {
     "name": "stdout",
     "output_type": "stream",
     "text": [
      "(21613, 21613)\n",
      "['id', 'date', 'price', 'bedrooms', 'bathrooms', 'sqft_living', 'sqft_lot', 'floors', 'waterfront', 'view', 'condition', 'grade', 'sqft_above', 'sqft_basement', 'yr_built', 'yr_renovated', 'zipcode', 'lat', 'long', 'sqft_living15', 'sqft_lot15']\n",
      "[<type 'str'>, <type 'str'>, <type 'float'>, <type 'float'>, <type 'float'>, <type 'float'>, <type 'int'>, <type 'str'>, <type 'int'>, <type 'int'>, <type 'int'>, <type 'int'>, <type 'int'>, <type 'int'>, <type 'int'>, <type 'int'>, <type 'str'>, <type 'float'>, <type 'float'>, <type 'float'>, <type 'float'>]\n",
      "+-------------+----------+\n",
      "| sqft_living |  price   |\n",
      "+-------------+----------+\n",
      "|    1180.0   | 221900.0 |\n",
      "|    2570.0   | 538000.0 |\n",
      "+-------------+----------+\n",
      "[2 rows x 2 columns]\n",
      "\n"
     ]
    }
   ],
   "source": [
    "#sales = gl.SFrame('./kc_house_data.gl/')\n",
    "dtype_dict = {'bathrooms':float, 'waterfront':int, 'sqft_above':int, 'sqft_living15':float, 'grade':int, 'yr_renovated':int, 'price':float, 'bedrooms':float, 'zipcode':str, 'long':float, 'sqft_lot15':float, 'sqft_living':float, 'floors':str, 'condition':int, 'lat':float, 'date':str, 'sqft_basement':int, 'yr_built':int, 'id':str, 'sqft_lot':int, 'view':int}\n",
    "\n",
    "# When using sframe with graphlab create\n",
    "# sales_gl = gl.SFrame('../Week2/kc_house_data.gl/')\n",
    "\n",
    "# if using sframes \n",
    "sales_sf = sf.SFrame.read_csv('../../Week2/kc_house_data.csv', column_type_hints = dtype_dict)\n",
    "print (sales_sf.num_rows(), len(sales_sf) )\n",
    "print sales_sf.column_names()\n",
    "print sales_sf.column_types()\n",
    "print sales_sf.head(2)['sqft_living', 'price']\n",
    "\n",
    "# if using Pandas\n",
    "sales_pd = pd.read_csv('../../Week2/kc_house_data.csv', dtype = dtype_dict)\n",
    "# print sales_pd.head(2)['sqft_living', 'price']   #doesn't work with pandas dataframes"
   ]
  },
  {
   "cell_type": "markdown",
   "metadata": {},
   "source": [
    "As in Week 3, we will use the sqft_living variable. For plotting purposes (connecting the dots), you'll need to sort by the values of sqft_living. For houses with identical square footage, we break the tie by their prices."
   ]
  },
  {
   "cell_type": "code",
   "execution_count": 47,
   "metadata": {
    "collapsed": false
   },
   "outputs": [
    {
     "name": "stdout",
     "output_type": "stream",
     "text": [
      "+-------------+----------+\n",
      "| sqft_living |  price   |\n",
      "+-------------+----------+\n",
      "|    290.0    | 142000.0 |\n",
      "|    370.0    | 276000.0 |\n",
      "|    380.0    | 245000.0 |\n",
      "|    384.0    | 265000.0 |\n",
      "|    390.0    | 228000.0 |\n",
      "+-------------+----------+\n",
      "[5 rows x 2 columns]\n",
      "\n"
     ]
    }
   ],
   "source": [
    "sales_sf = sales_sf.sort(['sqft_living', 'price'])\n",
    "sales_pd = sales_sf.sort(['sqft_living', 'price'])\n",
    "\n",
    "print sales_pd.head(5)['sqft_living', 'price']"
   ]
  },
  {
   "cell_type": "markdown",
   "metadata": {},
   "source": [
    "**3.** Let us revisit the 15th-order polynomial model using the 'sqft_living' input. Generate polynomial features up to degree 15 using `polynomial_sframe()` and fit a model with these features. When fitting the model, use an L2 penalty of `1e-5`:"
   ]
  },
  {
   "cell_type": "code",
   "execution_count": 48,
   "metadata": {
    "collapsed": false
   },
   "outputs": [
    {
     "name": "stdout",
     "output_type": "stream",
     "text": [
      "features as sf sarray\n",
      "['power_1', 'power_2', 'power_3', 'power_4', 'power_5', 'power_6', 'power_7', 'power_8', 'power_9', 'power_10', 'power_11', 'power_12', 'power_13', 'power_14', 'power_15']\n",
      "features as pd series\n",
      "0      power_1\n",
      "1      power_2\n",
      "2      power_3\n",
      "3      power_4\n",
      "4      power_5\n",
      "5      power_6\n",
      "6      power_7\n",
      "7      power_8\n",
      "8      power_9\n",
      "9     power_10\n",
      "10    power_11\n",
      "11    power_12\n",
      "12    power_13\n",
      "13    power_14\n",
      "14    power_15\n",
      "dtype: object\n",
      "   power_1  power_2     power_3       power_4       power_5       power_6  \\\n",
      "0    290.0  84100.0  24389000.0  7.072810e+09  2.051115e+12  5.948233e+14   \n",
      "\n",
      "        power_7       power_8       power_9      power_10      power_11  \\\n",
      "0  1.724988e+17  5.002464e+19  1.450715e+22  4.207072e+24  1.220051e+27   \n",
      "\n",
      "       power_12      power_13      power_14      power_15     price  \n",
      "0  3.538148e+29  1.026063e+32  2.975582e+34  8.629189e+36  142000.0  \n"
     ]
    }
   ],
   "source": [
    "l2_small_penalty = 1.5e-5\n",
    "poly15_data_pd = polynomial_pdframe(sales_pd['sqft_living'], 15) # use equivalent of `polynomial_sframe`\n",
    "poly15_data_sf = polynomial_sframe(sales_sf['sqft_living'], 15)\n",
    "\n",
    "features = poly15_data_sf.column_names() # get the name of the features b4 adding target variable!!!\n",
    "print \"features as sf sarray\\n\", features\n",
    "\n",
    "my_features = pd.Series(features)\n",
    "print \"features as pd series\\n\", my_features\n",
    "\n",
    "\n",
    "poly15_data_pd['price'] = sales_pd['price'] # adds extra column for price to the data since it's the target\n",
    "print poly15_data_pd.head(1)"
   ]
  },
  {
   "cell_type": "markdown",
   "metadata": {},
   "source": [
    "Note: When we have so many features and so few data points, the solution can become highly numerically unstable, which can sometimes lead to strange unpredictable results.  Thus, rather than using no regularization, we will introduce a tiny amount of regularization (`l2_penalty=1e-5`) to make the solution numerically stable.  (In lecture, we discussed the fact that regularization can also help with numerical stability, and here we are seeing a practical example.)\n",
    "\n",
    "With the L2 penalty specified above, fit the model and print out the learned weights. Add \"alpha=l2_small_penalty\" and \"normalize=True\" to the parameter list of linear_model.Ridge:\n",
    "\n",
    "Hint: make sure to add 'price' column to the new SFrame before calling `gl.linear_regression.create()`. With pandas, we don't do this step, y is kept in seperate series to data=X. Also, make sure GraphLab Create doesn't create its own validation set by using the option `validation_set=None` in this call."
   ]
  },
  {
   "cell_type": "code",
   "execution_count": 49,
   "metadata": {
    "collapsed": false
   },
   "outputs": [
    {
     "name": "stdout",
     "output_type": "stream",
     "text": [
      "   power_1   power_2     power_3       power_4       power_5       power_6  \\\n",
      "0    290.0   84100.0  24389000.0  7.072810e+09  2.051115e+12  5.948233e+14   \n",
      "1    370.0  136900.0  50653000.0  1.874161e+10  6.934396e+12  2.565726e+15   \n",
      "\n",
      "        power_7       power_8       power_9      power_10      power_11  \\\n",
      "0  1.724988e+17  5.002464e+19  1.450715e+22  4.207072e+24  1.220051e+27   \n",
      "1  9.493188e+17  3.512479e+20  1.299617e+23  4.808584e+25  1.779176e+28   \n",
      "\n",
      "       power_12      power_13      power_14      power_15  \n",
      "0  3.538148e+29  1.026063e+32  2.975582e+34  8.629189e+36  \n",
      "1  6.582952e+30  2.435692e+33  9.012061e+35  3.334463e+38  \n",
      "0    142000.0\n",
      "1    276000.0\n",
      "Name: price, dtype: float64\n",
      "\n",
      "Intercept 537116.329638\n",
      "[  4.56404164e-91   6.91713460e-51  -5.84668089e-56   2.78197775e-88\n",
      "   1.19863929e-74   2.68575522e-71   2.26147568e-67   1.85900299e-63\n",
      "   1.47144116e-59   1.09771012e-55   7.43509038e-52   4.23015578e-48\n",
      "   1.61618577e-44  -2.49283826e-48   9.59718336e-53]\n"
     ]
    },
    {
     "data": {
      "text/plain": [
       "[('power_1', 4.5640416449249861e-91),\n",
       " ('power_2', 6.9171345995561045e-51),\n",
       " ('power_3', -5.8466808901836489e-56),\n",
       " ('power_4', 2.7819777465757932e-88),\n",
       " ('power_5', 1.1986392947067809e-74),\n",
       " ('power_6', 2.6857552188992653e-71),\n",
       " ('power_7', 2.2614756826799232e-67),\n",
       " ('power_8', 1.8590029915832008e-63),\n",
       " ('power_9', 1.4714411550209987e-59),\n",
       " ('power_10', 1.0977101176268781e-55),\n",
       " ('power_11', 7.4350903821674144e-52),\n",
       " ('power_12', 4.2301557751215826e-48),\n",
       " ('power_13', 1.6161857728331358e-44),\n",
       " ('power_14', -2.4928382597799456e-48),\n",
       " ('power_15', 9.5971833609603959e-53)]"
      ]
     },
     "execution_count": 49,
     "metadata": {},
     "output_type": "execute_result"
    }
   ],
   "source": [
    "# use scikit_learn regression modelling capabilities\n",
    "# model_poly15 = gl.linear_regression.create(poly15_data, target = 'price', features = my_features, \n",
    "#                                           l2_penalty = 1e-5, validation_set = None)\n",
    "\n",
    "# import model for plain vanilla linear regression\n",
    "from sklearn.linear_model import LinearRegression\n",
    "\n",
    "# instantiate\n",
    "model = LinearRegression()\n",
    "\n",
    "predictors = features\n",
    "\n",
    "#First converting predictors and outcome to numpy array - no need as we using pandas not sframe\n",
    "X = poly15_data_pd[predictors]     #equivalent X = poly15_data_pd since   \n",
    "y = poly15_data_pd['price']\n",
    "print X.head(2)\n",
    "print y.head(2)\n",
    "model.fit(X, y)\n",
    "\n",
    "print \"\\nIntercept\", model.intercept_     #-43579 from gl linear regression toolkit\n",
    "print model.coef_  \n",
    "\n",
    "# pair the feature names with the coefficients\n",
    "zip(features, model.coef_)"
   ]
  },
  {
   "cell_type": "code",
   "execution_count": 50,
   "metadata": {
    "collapsed": false
   },
   "outputs": [
    {
     "data": {
      "text/plain": [
       "Ridge(alpha=1.5e-05, copy_X=True, fit_intercept=True, max_iter=None,\n",
       "   normalize=True, random_state=None, solver='auto', tol=0.001)"
      ]
     },
     "execution_count": 50,
     "metadata": {},
     "output_type": "execute_result"
    }
   ],
   "source": [
    "#For Ridge regression we user linear_model.Ridge and have to specify alpha\n",
    "l2_small_penalty = 1.5e-5\n",
    "\n",
    "from sklearn import linear_model\n",
    "import numpy as np\n",
    "\n",
    "model_poly15 = linear_model.Ridge(alpha=l2_small_penalty, normalize=True)\n",
    "model_poly15.fit(poly15_data_pd[predictors], sales_pd['price'])\n",
    "#or #model_poly15.fit(X, y)\n",
    "#NB X = poly15_data_pd wud also include 'price' as a feature column - we dont want that!!"
   ]
  },
  {
   "cell_type": "code",
   "execution_count": 51,
   "metadata": {
    "collapsed": false
   },
   "outputs": [
    {
     "name": "stdout",
     "output_type": "stream",
     "text": [
      "220664.375054\n",
      "[  1.24873306e+02  -4.77376011e-02   3.01446238e-05  -2.44419942e-09\n",
      "  -1.94153675e-13   8.54085686e-18   1.51142121e-21   8.27979094e-26\n",
      "   6.52603100e-31  -3.27895017e-34  -3.87962315e-38  -2.72437650e-42\n",
      "  -1.07790800e-46   3.78242694e-51   1.39790296e-54]\n"
     ]
    },
    {
     "data": {
      "text/plain": [
       "[('power_1', 124.87330648133668),\n",
       " ('power_2', -0.047737601081531293),\n",
       " ('power_3', 3.0144623808076464e-05),\n",
       " ('power_4', -2.4441994168977462e-09),\n",
       " ('power_5', -1.9415367543958292e-13),\n",
       " ('power_6', 8.5408568552545024e-18),\n",
       " ('power_7', 1.5114212102199211e-21),\n",
       " ('power_8', 8.2797909354374788e-26),\n",
       " ('power_9', 6.5260310032404997e-31),\n",
       " ('power_10', -3.2789501683258619e-34),\n",
       " ('power_11', -3.8796231461617722e-38),\n",
       " ('power_12', -2.7243764976966673e-42),\n",
       " ('power_13', -1.0779079984187713e-46),\n",
       " ('power_14', 3.7824269373083851e-51),\n",
       " ('power_15', 1.397902964501719e-54)]"
      ]
     },
     "execution_count": 51,
     "metadata": {},
     "output_type": "execute_result"
    }
   ],
   "source": [
    "# print the intercept and coefficients\n",
    "print model_poly15.intercept_     #-43579 from gl linear regression toolkit\n",
    "print model_poly15.coef_          #280.6 \n",
    "\n",
    "# pair the feature names with the coefficients\n",
    "zip(features, model_poly15.coef_)"
   ]
  },
  {
   "cell_type": "markdown",
   "metadata": {},
   "source": [
    "*** 4. QUIZ QUESTION:  What's the learned value for the coefficient of feature `power_1`?*** 124.87  ( graphlab gave this ans 137.41)"
   ]
  },
  {
   "cell_type": "markdown",
   "metadata": {},
   "source": [
    "# Observe overfitting"
   ]
  },
  {
   "cell_type": "markdown",
   "metadata": {},
   "source": [
    "**5.** Recall from Week 3 that the polynomial fit of degree 15 changed wildly whenever the data changed. In particular, when we split the sales data into four subsets and fit the model of degree 15, the result came out to be very different for each subset. The model had a *high variance*. We will see next that ridge regression reduces such variance although with a toleratable increase in bias. We can say that a degree 15 polynomial model is a very complex model, and that although increased complexity leads to more flexible model, i.e gives a model that fits the data exceedingly well ie. overfit so bias is very low but as we saw from the plots of the 4 different degree 15 polynomial model fit to the data, the models vary wildely thus displays high variance. But first, we must reproduce the experiment we did in Week 3."
   ]
  },
  {
   "cell_type": "markdown",
   "metadata": {},
   "source": [
    "**6. ** First, split the data into split the sales data into four subsets of roughly equal size and call them `set_1`, `set_2`, `set_3`, and `set_4`. Use `.random_split` function and make sure you set `seed=0`. "
   ]
  },
  {
   "cell_type": "code",
   "execution_count": 52,
   "metadata": {
    "collapsed": false
   },
   "outputs": [
    {
     "data": {
      "text/html": [
       "<div>\n",
       "<table border=\"1\" class=\"dataframe\">\n",
       "  <thead>\n",
       "    <tr style=\"text-align: right;\">\n",
       "      <th></th>\n",
       "      <th>id</th>\n",
       "      <th>date</th>\n",
       "      <th>price</th>\n",
       "      <th>bedrooms</th>\n",
       "      <th>bathrooms</th>\n",
       "      <th>sqft_living</th>\n",
       "      <th>sqft_lot</th>\n",
       "      <th>floors</th>\n",
       "      <th>waterfront</th>\n",
       "      <th>view</th>\n",
       "      <th>...</th>\n",
       "      <th>grade</th>\n",
       "      <th>sqft_above</th>\n",
       "      <th>sqft_basement</th>\n",
       "      <th>yr_built</th>\n",
       "      <th>yr_renovated</th>\n",
       "      <th>zipcode</th>\n",
       "      <th>lat</th>\n",
       "      <th>long</th>\n",
       "      <th>sqft_living15</th>\n",
       "      <th>sqft_lot15</th>\n",
       "    </tr>\n",
       "  </thead>\n",
       "  <tbody>\n",
       "    <tr>\n",
       "      <th>0</th>\n",
       "      <td>8658300340</td>\n",
       "      <td>20140523T000000</td>\n",
       "      <td>80000.0</td>\n",
       "      <td>1.0</td>\n",
       "      <td>0.75</td>\n",
       "      <td>430.0</td>\n",
       "      <td>5050</td>\n",
       "      <td>1</td>\n",
       "      <td>0</td>\n",
       "      <td>0</td>\n",
       "      <td>...</td>\n",
       "      <td>4</td>\n",
       "      <td>430</td>\n",
       "      <td>0</td>\n",
       "      <td>1912</td>\n",
       "      <td>0</td>\n",
       "      <td>98014</td>\n",
       "      <td>47.6499</td>\n",
       "      <td>-121.909</td>\n",
       "      <td>1200.0</td>\n",
       "      <td>7500.0</td>\n",
       "    </tr>\n",
       "    <tr>\n",
       "      <th>1</th>\n",
       "      <td>1352300580</td>\n",
       "      <td>20141114T000000</td>\n",
       "      <td>247000.0</td>\n",
       "      <td>1.0</td>\n",
       "      <td>1.00</td>\n",
       "      <td>460.0</td>\n",
       "      <td>4120</td>\n",
       "      <td>1</td>\n",
       "      <td>0</td>\n",
       "      <td>0</td>\n",
       "      <td>...</td>\n",
       "      <td>4</td>\n",
       "      <td>460</td>\n",
       "      <td>0</td>\n",
       "      <td>1937</td>\n",
       "      <td>0</td>\n",
       "      <td>98055</td>\n",
       "      <td>47.4868</td>\n",
       "      <td>-122.199</td>\n",
       "      <td>990.0</td>\n",
       "      <td>4120.0</td>\n",
       "    </tr>\n",
       "  </tbody>\n",
       "</table>\n",
       "<p>2 rows × 21 columns</p>\n",
       "</div>"
      ],
      "text/plain": [
       "           id             date     price  bedrooms  bathrooms  sqft_living  \\\n",
       "0  8658300340  20140523T000000   80000.0       1.0       0.75        430.0   \n",
       "1  1352300580  20141114T000000  247000.0       1.0       1.00        460.0   \n",
       "\n",
       "   sqft_lot floors  waterfront  view     ...      grade  sqft_above  \\\n",
       "0      5050      1           0     0     ...          4         430   \n",
       "1      4120      1           0     0     ...          4         460   \n",
       "\n",
       "   sqft_basement  yr_built  yr_renovated  zipcode      lat     long  \\\n",
       "0              0      1912             0    98014  47.6499 -121.909   \n",
       "1              0      1937             0    98055  47.4868 -122.199   \n",
       "\n",
       "   sqft_living15  sqft_lot15  \n",
       "0         1200.0      7500.0  \n",
       "1          990.0      4120.0  \n",
       "\n",
       "[2 rows x 21 columns]"
      ]
     },
     "execution_count": 52,
     "metadata": {},
     "output_type": "execute_result"
    }
   ],
   "source": [
    "# dtype_dict same as above\n",
    "set_1 = pd.read_csv('../../Week2/wk3_kc_house_set_1_data.csv', dtype=dtype_dict)\n",
    "set_2 = pd.read_csv('../../Week2/wk3_kc_house_set_2_data.csv', dtype=dtype_dict)\n",
    "set_3 = pd.read_csv('../../Week2/wk3_kc_house_set_3_data.csv', dtype=dtype_dict)\n",
    "set_4 = pd.read_csv('../../Week2/wk3_kc_house_set_4_data.csv', dtype=dtype_dict)\n",
    "set_1.head(2)"
   ]
  },
  {
   "cell_type": "markdown",
   "metadata": {},
   "source": [
    "**7.** Next, fit a 15th degree polynomial on `set_1`, `set_2`, `set_3`, and `set_4`, using 'sqft_living' to predict prices. Print the weights and make a plot of the resulting model.\n",
    "\n",
    "Hint: When calling `gl.linear_regression.create()`, use the same L2 penalty as before (i.e. `l2_small_penalty`).  Also, make sure GraphLab Create doesn't create its own validation set by using the option `validation_set = None` in this call."
   ]
  },
  {
   "cell_type": "code",
   "execution_count": 53,
   "metadata": {
    "collapsed": false
   },
   "outputs": [
    {
     "data": {
      "text/plain": [
       "[('power_1', 544.66940202665876),\n",
       " ('power_2', -0.35544760877927922),\n",
       " ('power_3', 0.00012244638325798943),\n",
       " ('power_4', -1.1717531931752227e-08),\n",
       " ('power_5', -3.9051238960230773e-13),\n",
       " ('power_6', -1.3907633678466637e-17),\n",
       " ('power_7', 1.4786030291335805e-20),\n",
       " ('power_8', 6.8749176589891126e-25),\n",
       " ('power_9', -7.5720397343984868e-29),\n",
       " ('power_10', -1.0409730900302351e-32),\n",
       " ('power_11', -3.7184407003284205e-37),\n",
       " ('power_12', 3.3998930639137176e-41),\n",
       " ('power_13', 5.565920403382609e-45),\n",
       " ('power_14', 2.5376133172260083e-49),\n",
       " ('power_15', -3.3515289181470338e-53)]"
      ]
     },
     "execution_count": 53,
     "metadata": {},
     "output_type": "execute_result"
    }
   ],
   "source": [
    "l2_small_penalty=1e-9\n",
    "\n",
    "poly_set1_data = polynomial_pdframe(set_1['sqft_living'], 15)\n",
    "model_poly_set1 = linear_model.Ridge(alpha=l2_small_penalty, normalize=True)\n",
    "model_poly_set1.fit(poly_set1_data, set_1['price'])\n",
    "zip(features, model_poly_set1.coef_)"
   ]
  },
  {
   "cell_type": "code",
   "execution_count": 54,
   "metadata": {
    "collapsed": false
   },
   "outputs": [
    {
     "data": {
      "text/plain": [
       "[('power_1', 859.36262358642591),\n",
       " ('power_2', -0.81811824485432616),\n",
       " ('power_3', 0.00042887996249351415),\n",
       " ('power_4', -9.1277058864321144e-08),\n",
       " ('power_5', -2.6960455930268879e-12),\n",
       " ('power_6', 3.7398032337844166e-15),\n",
       " ('power_7', -1.4271189636431523e-19),\n",
       " ('power_8', -6.3079473889690605e-23),\n",
       " ('power_9', -1.4455953715643467e-27),\n",
       " ('power_10', 7.4432129627842465e-31),\n",
       " ('power_11', 9.2586593127727624e-35),\n",
       " ('power_12', 3.2799272998092511e-41),\n",
       " ('power_13', -1.2954349131291249e-42),\n",
       " ('power_14', -1.3878125358083497e-46),\n",
       " ('power_15', 1.6654643893406007e-50)]"
      ]
     },
     "execution_count": 54,
     "metadata": {},
     "output_type": "execute_result"
    }
   ],
   "source": [
    "poly_set2_data = polynomial_pdframe(set_2['sqft_living'], 15)\n",
    "model_poly_set2 = linear_model.Ridge(alpha=l2_small_penalty, normalize=True)\n",
    "model_poly_set2.fit(poly_set2_data, set_2['price'])\n",
    "zip(features, model_poly_set2.coef_)"
   ]
  },
  {
   "cell_type": "code",
   "execution_count": 55,
   "metadata": {
    "collapsed": false
   },
   "outputs": [
    {
     "data": {
      "text/plain": [
       "[('power_1', -755.39588496871147),\n",
       " ('power_2', 0.97557944783261663),\n",
       " ('power_3', -0.0004589459546177137),\n",
       " ('power_4', 7.7795798412938646e-08),\n",
       " ('power_5', 7.1501345721244158e-12),\n",
       " ('power_6', -2.8860195884102796e-15),\n",
       " ('power_7', -2.1367842056701234e-20),\n",
       " ('power_8', 3.3808520947247606e-23),\n",
       " ('power_9', 2.1917821928960265e-27),\n",
       " ('power_10', -1.9706772414047322e-31),\n",
       " ('power_11', -4.1599317567069937e-35),\n",
       " ('power_12', -1.8019627673943289e-39),\n",
       " ('power_13', 3.190711787236575e-43),\n",
       " ('power_14', 5.0845700346882424e-47),\n",
       " ('power_15', -3.9330430682118094e-51)]"
      ]
     },
     "execution_count": 55,
     "metadata": {},
     "output_type": "execute_result"
    }
   ],
   "source": [
    "poly_set3_data = polynomial_pdframe(set_3['sqft_living'], 15)\n",
    "model_poly_set3 = linear_model.Ridge(alpha=l2_small_penalty, normalize=True)\n",
    "model_poly_set3.fit(poly_set3_data, set_3['price'])\n",
    "zip(features, model_poly_set3.coef_)"
   ]
  },
  {
   "cell_type": "code",
   "execution_count": 56,
   "metadata": {
    "collapsed": false
   },
   "outputs": [
    {
     "data": {
      "text/plain": [
       "[('power_1', 1119.4457149656312),\n",
       " ('power_2', -0.9837602164585687),\n",
       " ('power_3', 0.00033877090151659739),\n",
       " ('power_4', 3.6037716982994994e-08),\n",
       " ('power_5', -4.3781399591282146e-11),\n",
       " ('power_6', 5.7719162524685469e-15),\n",
       " ('power_7', 7.6679531780639605e-19),\n",
       " ('power_8', -9.4929772082587863e-23),\n",
       " ('power_9', -1.9603081381725113e-26),\n",
       " ('power_10', -2.1088249662950967e-32),\n",
       " ('power_11', 3.3100508204346452e-34),\n",
       " ('power_12', 3.4773386278624853e-38),\n",
       " ('power_13', -2.4303919712348269e-42),\n",
       " ('power_14', -8.7955339238866463e-46),\n",
       " ('power_15', 6.4456973381692695e-50)]"
      ]
     },
     "execution_count": 56,
     "metadata": {},
     "output_type": "execute_result"
    }
   ],
   "source": [
    "poly_set4_data = polynomial_pdframe(set_4['sqft_living'], 15)\n",
    "model_poly_set4 = linear_model.Ridge(alpha=l2_small_penalty, normalize=True)\n",
    "model_poly_set4.fit(poly_set4_data, set_4['price'])\n",
    "zip(features, model_poly_set4.coef_)"
   ]
  },
  {
   "cell_type": "code",
   "execution_count": 57,
   "metadata": {
    "collapsed": false,
    "scrolled": true
   },
   "outputs": [],
   "source": [
    "# this would print out the coefficients\n",
    "# model_poly_set1.coefficients.print_rows(num_rows=len(model.coefficients['value']), num_columns=4)\n",
    "\n",
    "# Numpy has a nifty function to print out polynomials in a pretty way\n",
    "def print_coefficients(model):    \n",
    "    # Get the degree of the polynomial\n",
    "    deg = len(model.coef_)\n",
    "\n",
    "    # Get learned parameters as a list\n",
    "    w = list(model.coef_) \n",
    "\n",
    "    # Numpy has a nifty function to print out polynomials in a pretty way\n",
    "    # (We'll use it, but it needs the parameters in the reverse order)\n",
    "    print 'Learned polynomial for degree ' + str(deg) + ':'\n",
    "    w.reverse()\n",
    "    print np.poly1d(w)"
   ]
  },
  {
   "cell_type": "code",
   "execution_count": 58,
   "metadata": {
    "collapsed": true
   },
   "outputs": [],
   "source": [
    "# Define functions to plot data points x,y and also overlay y_pred as a line \n",
    "\n",
    "# determine predicted values for y given model and plot in provided kala-colour\n",
    "def plot_poly_predictions(data, model, dset, set_num, kola):\n",
    "    \n",
    "    # scatter plot X,Y in blue\n",
    "    plt.plot(data['power_1'],dset['price'],'b.')\n",
    "    plt.xlabel('x-axis: sqft_living')\n",
    "    plt.ylabel('y-axis: price')\n",
    "    \n",
    "    # Get the degree of the polynomial. num of coefficients also include intercept so 1 less!\n",
    "    deg = len(model.coef_)\n",
    "    \n",
    "    # get predictions using data[features]\n",
    "    y_pred = model.predict(data)\n",
    "    \n",
    "    # plot predictions\n",
    "    plt.plot(data['power_1'], y_pred, kola, label='deg' + str(deg) + ' data set ' + set_num)\n",
    "    plt.legend(loc='upper left')\n",
    "    #plt.axis([0,1,-1.5,2])"
   ]
  },
  {
   "cell_type": "code",
   "execution_count": 59,
   "metadata": {
    "collapsed": false
   },
   "outputs": [
    {
     "data": {
      "image/png": "[encoded data removed]",
      "text/plain": [
       "<matplotlib.figure.Figure at 0x7f9784055610>"
      ]
     },
     "metadata": {},
     "output_type": "display_data"
    }
   ],
   "source": [
    "#print_coefficients(model_poly_set1)\n",
    "plot_poly_predictions( poly_set1_data,  model_poly_set1, set_1, '1', 'red' )"
   ]
  },
  {
   "cell_type": "code",
   "execution_count": 60,
   "metadata": {
    "collapsed": false
   },
   "outputs": [
    {
     "data": {
      "image/png": "[encoded data removed]",
      "text/plain": [
       "<matplotlib.figure.Figure at 0x7f9784055190>"
      ]
     },
     "metadata": {},
     "output_type": "display_data"
    }
   ],
   "source": [
    "#print_coefficients(model_poly_set2)\n",
    "plot_poly_predictions( poly_set2_data,  model_poly_set2, set_2,  '2','green' )"
   ]
  },
  {
   "cell_type": "code",
   "execution_count": 61,
   "metadata": {
    "collapsed": false
   },
   "outputs": [
    {
     "data": {
      "image/png": "[encoded data removed]",
      "text/plain": [
       "<matplotlib.figure.Figure at 0x7f97602b3ad0>"
      ]
     },
     "metadata": {},
     "output_type": "display_data"
    }
   ],
   "source": [
    "#print_coefficients(model_poly_set3)\n",
    "plot_poly_predictions( poly_set3_data,  model_poly_set3, set_3,  '3','purple' )"
   ]
  },
  {
   "cell_type": "code",
   "execution_count": 62,
   "metadata": {
    "collapsed": false
   },
   "outputs": [
    {
     "data": {
      "image/png": "[encoded data removed]",
      "text/plain": [
       "<matplotlib.figure.Figure at 0x7f97682d2750>"
      ]
     },
     "metadata": {},
     "output_type": "display_data"
    }
   ],
   "source": [
    "#print_coefficients(model_poly_set4)\n",
    "plot_poly_predictions( poly_set4_data,  model_poly_set4, set_4, '4', 'orange' )"
   ]
  },
  {
   "cell_type": "markdown",
   "metadata": {},
   "source": [
    "The four curves should differ from one another a lot, as shown by the coefficients learnt above. The models have a high variance. We can say that a degree 15 polynomial model is a very complex model, and that increased complexity leads to more flexible model, i.e gives a model that fits the data exceedingly well ie. overfit so bias is very low but as we saw from the plots of the 4 different degree 15 polynomial model fit to the data, the models vary wildely thus displays high variance. Ridge regression reduces such variance although with a toleratable increase in bias.\n",
    "\n",
    "***8. QUIZ QUESTION:  For the models learned in each of these training sets, what are the smallest and largest values you learned for the coefficient of feature `power_1`?***  (For the purpose of answering this question, negative numbers are considered \"smaller\" than positive numbers. So -5 is smaller than -3, and -3 is smaller than 5 and so forth.)\n",
    "\n",
    "Coeffients of feature `power_1` in order smallest to largest weight [-755, 544, 859, 1119] \n",
    "\n",
    "                                              Graphlab using 1e-9   [-4232, -775, 798, 2946] \n"
   ]
  },
  {
   "cell_type": "code",
   "execution_count": 63,
   "metadata": {
    "collapsed": false,
    "scrolled": true
   },
   "outputs": [],
   "source": [
    "#zip(features, model_poly_set1.coef_)   #  -15\n",
    "#zip(features, model_poly_set2.coef_)   #  288\n",
    "#zip(features, model_poly_set3.coef_)   #  187\n",
    "#zip(features, model_poly_set4.coef_)   #  129"
   ]
  },
  {
   "cell_type": "markdown",
   "metadata": {},
   "source": [
    "# Ridge regression comes to rescue"
   ]
  },
  {
   "cell_type": "markdown",
   "metadata": {},
   "source": [
    "**9.** Generally, whenever we see weights change so much in response to change in data, we believe the variance of our estimate to be large. We don't want that, cause it shows our model is very flexible/complex and hence doesn't generalise well to new data. So its unstable model with predictions that won't be reliable since results not reproducible. Ridge regression aims to address this issue by penalizing \"large\" weights/coefficients. (The weights looked quite small, but they are not that small because 'sqft_living' input is in the order of thousands.)\n",
    "\n",
    "**10.** With the argument `l2_penalty=1e5`, fit a 15th-order polynomial model on `set_1`, `set_2`, `set_3`, and `set_4`, this time with a large L2 penalty. Make sure to add \"alpha=l2_penalty\" and \"normalize=True\" to the parameter list, where the value of l2_penalty is given by`l2_penalty=1.23e2`.  Other than the change in the `l2_penalty` parameter, the code should be the same as the experiment above. Also, make sure GraphLab Create doesn't create its own validation set by using the option `validation_set = None` in this call."
   ]
  },
  {
   "cell_type": "code",
   "execution_count": 64,
   "metadata": {
    "collapsed": false,
    "scrolled": false
   },
   "outputs": [
    {
     "data": {
      "text/plain": [
       "[('power_1', 119.21420201392564),\n",
       " ('power_2', 0.018840251772503622),\n",
       " ('power_3', 1.4611950235720038e-06),\n",
       " ('power_4', 6.1640437561767764e-11),\n",
       " ('power_5', 2.2042116520753085e-15),\n",
       " ('power_6', 7.3537036955664501e-20),\n",
       " ('power_7', 1.1006408971780118e-24),\n",
       " ('power_8', -1.9859161186124051e-28),\n",
       " ('power_9', -3.4871035143326149e-32),\n",
       " ('power_10', -4.0444610032269114e-36),\n",
       " ('power_11', -4.0339053628919493e-40),\n",
       " ('power_12', -3.7093095385759309e-44),\n",
       " ('power_13', -3.2398849495231093e-48),\n",
       " ('power_14', -2.7313665773165807e-52),\n",
       " ('power_15', -2.2441796315930779e-56)]"
      ]
     },
     "execution_count": 64,
     "metadata": {},
     "output_type": "execute_result"
    }
   ],
   "source": [
    "l2_large_penalty=1e-1\n",
    "#l2_large_penalty=1.23e2\n",
    "model_poly_set1 = linear_model.Ridge(alpha=l2_large_penalty, normalize=True)\n",
    "model_poly_set1.fit(poly_set1_data, set_1['price'])\n",
    "zip(features, model_poly_set1.coef_)"
   ]
  },
  {
   "cell_type": "code",
   "execution_count": 65,
   "metadata": {
    "collapsed": false
   },
   "outputs": [
    {
     "data": {
      "text/plain": [
       "[('power_1', 96.441186857241817),\n",
       " ('power_2', 0.018068261808503763),\n",
       " ('power_3', 2.4097932365488746e-06),\n",
       " ('power_4', 1.5618353452980963e-10),\n",
       " ('power_5', -2.9636723196690731e-15),\n",
       " ('power_6', -1.7846400532330652e-18),\n",
       " ('power_7', -2.3517846129975129e-22),\n",
       " ('power_8', -2.1456611353888315e-26),\n",
       " ('power_9', -1.4612415972424656e-30),\n",
       " ('power_10', -5.2599241536888932e-35),\n",
       " ('power_11', 5.2320410212373753e-39),\n",
       " ('power_12', 1.6149295479288665e-42),\n",
       " ('power_13', 2.7173875425113356e-46),\n",
       " ('power_14', 3.8207545175422554e-50),\n",
       " ('power_15', 4.9266573855076561e-54)]"
      ]
     },
     "execution_count": 65,
     "metadata": {},
     "output_type": "execute_result"
    }
   ],
   "source": [
    "model_poly_set2 = linear_model.Ridge(alpha=l2_large_penalty, normalize=True)\n",
    "model_poly_set2.fit(poly_set2_data, set_2['price'])\n",
    "zip(features, model_poly_set2.coef_)"
   ]
  },
  {
   "cell_type": "code",
   "execution_count": 66,
   "metadata": {
    "collapsed": false
   },
   "outputs": [
    {
     "data": {
      "text/plain": [
       "[('power_1', 106.57201250583569),\n",
       " ('power_2', 0.018313157003707899),\n",
       " ('power_3', 1.957631391939624e-06),\n",
       " ('power_4', 1.0365803550431541e-10),\n",
       " ('power_5', 1.5251813217474437e-15),\n",
       " ('power_6', -2.6187112734767366e-19),\n",
       " ('power_7', -3.545845715038769e-23),\n",
       " ('power_8', -2.973480556585414e-27),\n",
       " ('power_9', -1.8337657463826914e-31),\n",
       " ('power_10', -5.3636641964314247e-36),\n",
       " ('power_11', 7.6097115956677649e-40),\n",
       " ('power_12', 2.007718754888763e-43),\n",
       " ('power_13', 3.1947583157483991e-47),\n",
       " ('power_14', 4.3267551733232376e-51),\n",
       " ('power_15', 5.4113909327909528e-55)]"
      ]
     },
     "execution_count": 66,
     "metadata": {},
     "output_type": "execute_result"
    }
   ],
   "source": [
    "model_poly_set3 = linear_model.Ridge(alpha=l2_large_penalty, normalize=True)\n",
    "model_poly_set3.fit(poly_set3_data, set_3['price'])\n",
    "zip(features, model_poly_set3.coef_)"
   ]
  },
  {
   "cell_type": "code",
   "execution_count": 67,
   "metadata": {
    "collapsed": false
   },
   "outputs": [
    {
     "data": {
      "text/plain": [
       "[('power_1', 90.747377399668395),\n",
       " ('power_2', 0.016996561386528209),\n",
       " ('power_3', 2.5686696523147182e-06),\n",
       " ('power_4', 2.4905629671361207e-10),\n",
       " ('power_5', 1.1786550552735033e-14),\n",
       " ('power_6', -6.6122561230424516e-19),\n",
       " ('power_7', -2.2822741481277493e-22),\n",
       " ('power_8', -3.287010535247439e-26),\n",
       " ('power_9', -3.5303184495212831e-30),\n",
       " ('power_10', -2.9900127073618622e-34),\n",
       " ('power_11', -1.6983291727997794e-38),\n",
       " ('power_12', 2.870779896381056e-43),\n",
       " ('power_13', 2.8936360973601264e-46),\n",
       " ('power_14', 6.035779039030665e-50),\n",
       " ('power_15', 9.6122284440026264e-54)]"
      ]
     },
     "execution_count": 67,
     "metadata": {},
     "output_type": "execute_result"
    }
   ],
   "source": [
    "model_poly_set4 = linear_model.Ridge(alpha=l2_large_penalty, normalize=True)\n",
    "model_poly_set4.fit(poly_set4_data, set_4['price'])\n",
    "zip(features, model_poly_set4.coef_)"
   ]
  },
  {
   "cell_type": "code",
   "execution_count": 68,
   "metadata": {
    "collapsed": false,
    "scrolled": false
   },
   "outputs": [
    {
     "data": {
      "image/png": "[encoded data removed]",
      "text/plain": [
       "<matplotlib.figure.Figure at 0x7f97682098d0>"
      ]
     },
     "metadata": {},
     "output_type": "display_data"
    }
   ],
   "source": [
    "#print_coefficients(model_poly_set1)\n",
    "plot_poly_predictions( poly_set1_data,  model_poly_set1, set_1, '1', 'red' )\n",
    "\n",
    "#print_coefficients(model_poly_set2)\n",
    "plot_poly_predictions( poly_set2_data,  model_poly_set2, set_2,  '2','green' )\n",
    "\n",
    "#print_coefficients(model_poly_set3)\n",
    "plot_poly_predictions( poly_set3_data,  model_poly_set3, set_3,  '3','purple' )\n",
    "\n",
    "#print_coefficients(model_poly_set4)\n",
    "plot_poly_predictions( poly_set4_data,  model_poly_set4, set_4, '4', 'orange' )"
   ]
  },
  {
   "cell_type": "code",
   "execution_count": 69,
   "metadata": {
    "collapsed": false
   },
   "outputs": [],
   "source": [
    "#coefficients obtained using graphlabs linear regression [48, 49, 58, 75] \n",
    "#alpha = 1e-1      = [90,106,96,119]   - with this plots looks similar to graph lab with penalty 1e2\n",
    "#alpha = 1e1       = [19, 19, 21, 23]\n",
    "#alpha = 1.23e21e1 = [2.1, 2.2, 2.2, 2.3]\n",
    "\n",
    "#zip(features, model_poly_set1.coef_)   #  23\n",
    "#zip(features, model_poly_set2.coef_)   #  19\n",
    "#zip(features, model_poly_set3.coef_)   #  21\n",
    "#zip(features, model_poly_set4.coef_)   #  19"
   ]
  },
  {
   "cell_type": "markdown",
   "metadata": {},
   "source": [
    "These curves should vary a lot less, now that you applied a high degree of regularization.\n",
    "\n",
    "***11. QUIZ QUESTION:  For the models learned with the high level of regularization in each of these training sets, what are the smallest and largest values you learned for the coefficient of feature `power_1`?*** (For the purpose of answering this question, negative numbers are considered \"smaller\" than positive numbers. So -5 is smaller than -3, and -3 is smaller than 5 and so forth.)\n",
    "\n",
    "Coeffients of feature power_1 in order smallest to largest weight [19, 19, 21, 23] "
   ]
  },
  {
   "cell_type": "markdown",
   "metadata": {},
   "source": [
    "# Selecting an L2 penalty via cross-validation"
   ]
  },
  {
   "cell_type": "markdown",
   "metadata": {},
   "source": [
    "**12.** Just like the polynomial degree, the L2 penalty is a \"magic\" parameter we need to select. We could use the validation set approach as we did in the last module, but that approach has a major disadvantage: it leaves fewer observations available for training. **Cross-validation** seeks to overcome this issue by using all of the training set in a smart way.\n",
    "\n",
    "We will implement a kind of cross-validation called **k-fold cross-validation**. The method gets its name because it involves dividing the training set into k segments of roughtly equal size. Similar to the validation set method, we measure the validation error with one of the segments designated as the validation set. The major difference is that we repeat the process k times as follows:\n",
    "\n",
    "* Set aside segment 0 as the validation set, and fit a model on rest of data, and evalutate it on this validation set<br>\n",
    "* Set aside segment 1 as the validation set, and fit a model on rest of data, and evalutate it on this validation set<br>\n",
    "* ...<br>\n",
    "* Set aside segment k-1 as the validation set, and fit a model on rest of data, and evalutate it on this validation set\n",
    "\n",
    "After this process, we compute the average of the k validation errors, and use it as an estimate of the generalization error. Notice that  all observations are used for both training and validation, as we iterate over segments of data. \n",
    "\n",
    "**13.** To estimate the generalization error well, it is crucial to shuffle the training data before dividing them into segments. GraphLab Create has a utility function for shuffling a given SFrame. We reserve 10% of the data as the test set and shuffle the remainder. (Make sure to use `seed=1` to get consistent answer.)\n",
    "\n",
    "If using pandas, for the purpose of this assignment, let us download the csv file containing pre-shuffled rows of training and validation sets combined: wk3_kc_house_train_valid_shuffled.csv. In practice, you would shuffle the rows with a dynamically determined random seed."
   ]
  },
  {
   "cell_type": "code",
   "execution_count": 70,
   "metadata": {
    "collapsed": false
   },
   "outputs": [],
   "source": [
    "train_valid_shuffled = pd.read_csv('../../Week2/wk3_kc_house_train_valid_shuffled.csv', dtype=dtype_dict)\n",
    "test = pd.read_csv('../../Week2/wk3_kc_house_test_data.csv', dtype=dtype_dict)"
   ]
  },
  {
   "cell_type": "markdown",
   "metadata": {},
   "source": [
    "**14.** Once the data is shuffled, we divide it into equal segments. Each segment should receive `n/k` elements, where `n` is the number of observations in the training set and `k` is the number of segments. Since the segment 0 starts at index 0 and contains `n/k` elements, it ends at index `(n/k)-1`. The segment 1 starts where the segment 0 left off, at index `(n/k)`. With `n/k` elements, the segment 1 ends at index `(n*2/k)-1`. Continuing in this fashion, we deduce that the segment `i` starts at index `(n*i/k)` and ends at `(n*(i+1)/k)-1`."
   ]
  },
  {
   "cell_type": "markdown",
   "metadata": {},
   "source": [
    "With this pattern in mind, we write a short loop that prints the starting and ending indices of each segment, just to make sure you are getting the splits right. We use xrange() or range, functions for creating lists, or a range of integers that assist in making for loops."
   ]
  },
  {
   "cell_type": "code",
   "execution_count": 71,
   "metadata": {
    "collapsed": false
   },
   "outputs": [
    {
     "name": "stdout",
     "output_type": "stream",
     "text": [
      "1\n",
      "3\n",
      "5\n",
      "7\n",
      "9\n"
     ]
    }
   ],
   "source": [
    "# odd number generate\n",
    "for i in range(1, 10, 2):    #xrange(start,stop, step) \n",
    "    print(i)"
   ]
  },
  {
   "cell_type": "code",
   "execution_count": 72,
   "metadata": {
    "collapsed": false
   },
   "outputs": [
    {
     "name": "stdout",
     "output_type": "stream",
     "text": [
      "19396\n",
      "0 (0, 1938)\n",
      "1 (1939, 3878)\n",
      "2 (3879, 5817)\n",
      "3 (5818, 7757)\n",
      "4 (7758, 9697)\n",
      "5 (9698, 11636)\n",
      "6 (11637, 13576)\n",
      "7 (13577, 15515)\n",
      "8 (15516, 17455)\n",
      "9 (17456, 19395)\n"
     ]
    }
   ],
   "source": [
    "n = len(train_valid_shuffled)\n",
    "print n\n",
    "k = 10 # 10-fold cross-validation\n",
    "\n",
    "for i in xrange(k):\n",
    "    start = (n*i)/k\n",
    "    end = (n*(i+1))/k-1\n",
    "    print i, (start, end)"
   ]
  },
  {
   "cell_type": "markdown",
   "metadata": {
    "collapsed": false
   },
   "source": [
    "Let us familiarize ourselves with array slicing with SFrame. To extract a continuous slice from an SFrame, use colon in square brackets. For instance, the following cell extracts rows 0 to 3 of `train_valid_shuffled`. Notice that the first index (0) is included in the slice but the last index (4) is omitted."
   ]
  },
  {
   "cell_type": "code",
   "execution_count": 73,
   "metadata": {
    "collapsed": false
   },
   "outputs": [
    {
     "data": {
      "text/html": [
       "<div>\n",
       "<table border=\"1\" class=\"dataframe\">\n",
       "  <thead>\n",
       "    <tr style=\"text-align: right;\">\n",
       "      <th></th>\n",
       "      <th>id</th>\n",
       "      <th>date</th>\n",
       "      <th>price</th>\n",
       "      <th>bedrooms</th>\n",
       "      <th>bathrooms</th>\n",
       "      <th>sqft_living</th>\n",
       "      <th>sqft_lot</th>\n",
       "      <th>floors</th>\n",
       "      <th>waterfront</th>\n",
       "      <th>view</th>\n",
       "      <th>...</th>\n",
       "      <th>grade</th>\n",
       "      <th>sqft_above</th>\n",
       "      <th>sqft_basement</th>\n",
       "      <th>yr_built</th>\n",
       "      <th>yr_renovated</th>\n",
       "      <th>zipcode</th>\n",
       "      <th>lat</th>\n",
       "      <th>long</th>\n",
       "      <th>sqft_living15</th>\n",
       "      <th>sqft_lot15</th>\n",
       "    </tr>\n",
       "  </thead>\n",
       "  <tbody>\n",
       "    <tr>\n",
       "      <th>0</th>\n",
       "      <td>2780400035</td>\n",
       "      <td>20140505T000000</td>\n",
       "      <td>665000.0</td>\n",
       "      <td>4.0</td>\n",
       "      <td>2.50</td>\n",
       "      <td>2800.0</td>\n",
       "      <td>5900</td>\n",
       "      <td>1</td>\n",
       "      <td>0</td>\n",
       "      <td>0</td>\n",
       "      <td>...</td>\n",
       "      <td>8</td>\n",
       "      <td>1660</td>\n",
       "      <td>1140</td>\n",
       "      <td>1963</td>\n",
       "      <td>0</td>\n",
       "      <td>98115</td>\n",
       "      <td>47.6809</td>\n",
       "      <td>-122.286</td>\n",
       "      <td>2580.0</td>\n",
       "      <td>5900.0</td>\n",
       "    </tr>\n",
       "    <tr>\n",
       "      <th>1</th>\n",
       "      <td>1703050500</td>\n",
       "      <td>20150321T000000</td>\n",
       "      <td>645000.0</td>\n",
       "      <td>3.0</td>\n",
       "      <td>2.50</td>\n",
       "      <td>2490.0</td>\n",
       "      <td>5978</td>\n",
       "      <td>2</td>\n",
       "      <td>0</td>\n",
       "      <td>0</td>\n",
       "      <td>...</td>\n",
       "      <td>9</td>\n",
       "      <td>2490</td>\n",
       "      <td>0</td>\n",
       "      <td>2003</td>\n",
       "      <td>0</td>\n",
       "      <td>98074</td>\n",
       "      <td>47.6298</td>\n",
       "      <td>-122.022</td>\n",
       "      <td>2710.0</td>\n",
       "      <td>6629.0</td>\n",
       "    </tr>\n",
       "    <tr>\n",
       "      <th>2</th>\n",
       "      <td>5700002325</td>\n",
       "      <td>20140605T000000</td>\n",
       "      <td>640000.0</td>\n",
       "      <td>3.0</td>\n",
       "      <td>1.75</td>\n",
       "      <td>2340.0</td>\n",
       "      <td>4206</td>\n",
       "      <td>1</td>\n",
       "      <td>0</td>\n",
       "      <td>0</td>\n",
       "      <td>...</td>\n",
       "      <td>7</td>\n",
       "      <td>1170</td>\n",
       "      <td>1170</td>\n",
       "      <td>1917</td>\n",
       "      <td>0</td>\n",
       "      <td>98144</td>\n",
       "      <td>47.5759</td>\n",
       "      <td>-122.288</td>\n",
       "      <td>1360.0</td>\n",
       "      <td>4725.0</td>\n",
       "    </tr>\n",
       "    <tr>\n",
       "      <th>3</th>\n",
       "      <td>0475000510</td>\n",
       "      <td>20141118T000000</td>\n",
       "      <td>594000.0</td>\n",
       "      <td>3.0</td>\n",
       "      <td>1.00</td>\n",
       "      <td>1320.0</td>\n",
       "      <td>5000</td>\n",
       "      <td>1</td>\n",
       "      <td>0</td>\n",
       "      <td>0</td>\n",
       "      <td>...</td>\n",
       "      <td>7</td>\n",
       "      <td>1090</td>\n",
       "      <td>230</td>\n",
       "      <td>1920</td>\n",
       "      <td>0</td>\n",
       "      <td>98107</td>\n",
       "      <td>47.6674</td>\n",
       "      <td>-122.365</td>\n",
       "      <td>1700.0</td>\n",
       "      <td>5000.0</td>\n",
       "    </tr>\n",
       "  </tbody>\n",
       "</table>\n",
       "<p>4 rows × 21 columns</p>\n",
       "</div>"
      ],
      "text/plain": [
       "           id             date     price  bedrooms  bathrooms  sqft_living  \\\n",
       "0  2780400035  20140505T000000  665000.0       4.0       2.50       2800.0   \n",
       "1  1703050500  20150321T000000  645000.0       3.0       2.50       2490.0   \n",
       "2  5700002325  20140605T000000  640000.0       3.0       1.75       2340.0   \n",
       "3  0475000510  20141118T000000  594000.0       3.0       1.00       1320.0   \n",
       "\n",
       "   sqft_lot floors  waterfront  view     ...      grade  sqft_above  \\\n",
       "0      5900      1           0     0     ...          8        1660   \n",
       "1      5978      2           0     0     ...          9        2490   \n",
       "2      4206      1           0     0     ...          7        1170   \n",
       "3      5000      1           0     0     ...          7        1090   \n",
       "\n",
       "   sqft_basement  yr_built  yr_renovated  zipcode      lat     long  \\\n",
       "0           1140      1963             0    98115  47.6809 -122.286   \n",
       "1              0      2003             0    98074  47.6298 -122.022   \n",
       "2           1170      1917             0    98144  47.5759 -122.288   \n",
       "3            230      1920             0    98107  47.6674 -122.365   \n",
       "\n",
       "   sqft_living15  sqft_lot15  \n",
       "0         2580.0      5900.0  \n",
       "1         2710.0      6629.0  \n",
       "2         1360.0      4725.0  \n",
       "3         1700.0      5000.0  \n",
       "\n",
       "[4 rows x 21 columns]"
      ]
     },
     "execution_count": 73,
     "metadata": {},
     "output_type": "execute_result"
    }
   ],
   "source": [
    "train_valid_shuffled[0:4].head() # rows 0 to 9 (i.e upto but not including the last index 10)"
   ]
  },
  {
   "cell_type": "markdown",
   "metadata": {},
   "source": [
    "Now let us extract individual segments with array slicing. Consider the scenario where we group the houses in the `train_valid_shuffled` dataframe into k=10 segments of roughly equal size, with starting and ending indices computed as above.\n",
    "Extract the fourth segment (segment 3) and assign it to a variable called `validation4`."
   ]
  },
  {
   "cell_type": "code",
   "execution_count": 74,
   "metadata": {
    "collapsed": true
   },
   "outputs": [],
   "source": [
    "# 0 (0, 1938)\n",
    "# 1 (1939, 3878)\n",
    "# 2 (3879, 5817)\n",
    "# 3 (5818, 7757)  <<----4th segment\n",
    "validation4 = train_valid_shuffled[5818:7757]"
   ]
  },
  {
   "cell_type": "markdown",
   "metadata": {},
   "source": [
    "To verify that we have the right elements extracted, run the following cell, which computes the average price of the fourth segment. When rounded to nearest whole number, the average should be $536,234."
   ]
  },
  {
   "cell_type": "code",
   "execution_count": 75,
   "metadata": {
    "collapsed": false
   },
   "outputs": [
    {
     "name": "stdout",
     "output_type": "stream",
     "text": [
      "$536353\n"
     ]
    }
   ],
   "source": [
    "print \"$%d\" %int(round(validation4['price'].mean(), 0))"
   ]
  },
  {
   "cell_type": "markdown",
   "metadata": {},
   "source": [
    "After designating one of the k segments as the validation set, we train a model using the rest of the data. To choose the remainder, we slice (0:start) and (end+1:n) of the data and paste them together. SFrame has `append()` method that pastes together two disjoint sets of rows originating from a common dataset. For instance, the following cell pastes together the first and last two rows of the `train_valid_shuffled` dataframe."
   ]
  },
  {
   "cell_type": "code",
   "execution_count": 76,
   "metadata": {
    "collapsed": false
   },
   "outputs": [],
   "source": [
    "n = len(train_valid_shuffled)\n",
    "first_two = train_valid_shuffled[0:2]\n",
    "last_two = train_valid_shuffled[n-2:n]\n",
    "# print first_two.append(last_two)"
   ]
  },
  {
   "cell_type": "markdown",
   "metadata": {},
   "source": [
    "Extract the remainder of the data after *excluding* fourth segment (segment 3) and assign the subset to `train4`."
   ]
  },
  {
   "cell_type": "code",
   "execution_count": 77,
   "metadata": {
    "collapsed": true
   },
   "outputs": [],
   "source": [
    "first_two = train_valid_shuffled[0:5818]\n",
    "last_two = train_valid_shuffled[7758:n]\n",
    "train4 = first_two.append(last_two)"
   ]
  },
  {
   "cell_type": "markdown",
   "metadata": {},
   "source": [
    "To verify that we have the right elements extracted, run the following cell, which computes the average price of the data with fourth segment excluded. When rounded to nearest whole number, the average should be $539,450."
   ]
  },
  {
   "cell_type": "code",
   "execution_count": 78,
   "metadata": {
    "collapsed": false
   },
   "outputs": [
    {
     "name": "stdout",
     "output_type": "stream",
     "text": [
      "$539450\n"
     ]
    }
   ],
   "source": [
    "print \"$%d\" %int(round(train4['price'].mean(), 0))"
   ]
  },
  {
   "cell_type": "markdown",
   "metadata": {},
   "source": [
    "**15.** Now we are ready to implement k-fold cross-validation. Write a function that computes k validation errors by designating each of the k segments as the validation set. It accepts as parameters (i) `k`, (ii) `l2_penalty`, (iii) dataframe, (iv) name of output column (e.g. `price`) and (v) list of feature names. The function returns the average validation error using k segments as validation sets.\n",
    "\n",
    "* For each i in [0, 1, ..., k-1]:\n",
    "  * Compute starting and ending indices of segment i and call 'start' and 'end'\n",
    "  * Form validation set by taking a slice (start:end+1) from the data.\n",
    "  * Form training set by appending slice (end+1:n) to the end of slice (0:start).\n",
    "  * Train a linear model using training set just formed, with a given l2_penalty\n",
    "  * Compute validation error using validation set just formed"
   ]
  },
  {
   "cell_type": "code",
   "execution_count": 79,
   "metadata": {
    "collapsed": false
   },
   "outputs": [],
   "source": [
    "def k_fold_cross_validation(k, l2, data,output, features):\n",
    "    n = len(data)\n",
    "    #print (n,k)\n",
    "    \n",
    "    RSS = list()  #or =[]\n",
    "    RSS_sum = 0\n",
    "    \n",
    "    for i in range(k):\n",
    "        \n",
    "        # Compute starting and ending indices of segment i and call 'start' and 'end'\n",
    "        start = (n*i)/k\n",
    "        end = (n*(i+1))/k-1\n",
    "    \n",
    "        # Create a held-out or validation set by taking a slice (start:end+1) from the data.\n",
    "        validation_set = data[start:end+1]\n",
    "                \n",
    "        # Form training set using rest of rows/indices - append slice (end+1:n) to the end of slice (0:start).\n",
    "        data_rows_before_validation_set = data[0:start]\n",
    "        data_rows_after_validation_set = data[end+1:n]\n",
    "        train = data_rows_before_validation_set.append(data_rows_after_validation_set)\n",
    "        \n",
    "        #print \"\\nFor CV fold %d, Validation set is samples from rows %d to %d \\nand train set from 0 to %d and %d to %d\" \\\n",
    "        #       %(i, start, end, start,end+1,n )\n",
    "        \n",
    "        #Train a linear model using training set rows just formed, with a given l2_penalty\n",
    "        #model = gl.linear_regression.create(data, target = output, features = features_list,\n",
    "        #                                      l2_penalty = l2, validation_set = None, verbose=False)\n",
    "        model = linear_model.Ridge(alpha=l2, normalize=True)\n",
    "        \n",
    "        model.fit(train[features], train[output] )\n",
    "        \n",
    "        # Compute validation error using validation set formed earlier\n",
    "        # 1st make predictions using validation data\n",
    "        predictions = model.predict(validation_set[features])\n",
    "    \n",
    "        # Calculate residuals = actual outcome/price in validation set - price predictions using validation set \n",
    "        residuals = validation_set[output] - predictions\n",
    "        rss = (residuals**2).sum()\n",
    "        RSS.append(rss)     #we could either add to list or\n",
    "        # keep summing up compute squared error like this\n",
    "        RSS_sum += rss\n",
    "       \n",
    "        #print \"And the RSS for CV fold %d is %0.2f\" \\\n",
    "        #       %(i, rss )\n",
    "            \n",
    "    # After each of the 10 sets had one go at being a validation set,\n",
    "    # compute the average validation error for a model, so divide by num of folds \n",
    "    validation_error = sum(RSS)/k \n",
    "    # validation_err = RSS_sum/k  - equivalent\n",
    "    \n",
    "    return validation_error"
   ]
  },
  {
   "cell_type": "markdown",
   "metadata": {},
   "source": [
    "**16.** Once we have a function to compute the average validation error for a model, we can write a loop to find the model that minimizes the average validation error. Write a loop that does the following:\n",
    "* We will again be aiming to fit a 15th-order polynomial model using the `sqft_living` input\n",
    "* For `l2_penalty` in [10^1, 10^1.5, 10^2, 10^2.5, ..., 10^7] (to get this in Python, you can use this Numpy function: `np.logspace(1, 7, num=13)`.)\n",
    "    * Run 10-fold cross-validation with `l2_penalty`\n",
    "* Report which L2 penalty produced the lowest average validation error.\n",
    "\n",
    "Note: since the degree of the polynomial is now fixed to 15, to make things faster, you should generate polynomial features in advance and re-use them throughout the loop. Make sure to use `train_valid_shuffled` when generating polynomial features!"
   ]
  },
  {
   "cell_type": "code",
   "execution_count": 81,
   "metadata": {
    "collapsed": false
   },
   "outputs": [
    {
     "name": "stdout",
     "output_type": "stream",
     "text": [
      "l2_penalty_values = \n",
      "[  1.00000000e+01   3.16227766e+01   1.00000000e+02   3.16227766e+02\n",
      "   1.00000000e+03   3.16227766e+03   1.00000000e+04   3.16227766e+04\n",
      "   1.00000000e+05   3.16227766e+05   1.00000000e+06   3.16227766e+06\n",
      "   1.00000000e+07]\n",
      "features SArray\n",
      "['power_1', 'power_2', 'power_3', 'power_4', 'power_5', 'power_6', 'power_7', 'power_8', 'power_9', 'power_10', 'power_11', 'power_12', 'power_13', 'power_14', 'power_15']\n",
      "features Series\n",
      "0      power_1\n",
      "1      power_2\n",
      "2      power_3\n",
      "3      power_4\n",
      "4      power_5\n",
      "5      power_6\n",
      "6      power_7\n",
      "7      power_8\n",
      "8      power_9\n",
      "9     power_10\n",
      "10    power_11\n",
      "11    power_12\n",
      "12    power_13\n",
      "13    power_14\n",
      "14    power_15\n",
      "dtype: object\n",
      "feature series values only \n",
      "['power_1' 'power_2' 'power_3' 'power_4' 'power_5' 'power_6' 'power_7'\n",
      " 'power_8' 'power_9' 'power_10' 'power_11' 'power_12' 'power_13' 'power_14'\n",
      " 'power_15']\n",
      "   power_1    power_2       power_3       power_4       power_5       power_6  \\\n",
      "0   2800.0  7840000.0  2.195200e+10  6.146560e+13  1.721037e+17  4.818903e+20   \n",
      "\n",
      "        power_7       power_8       power_9      power_10      power_11  \\\n",
      "0  1.349293e+24  3.778020e+27  1.057846e+31  2.961968e+34  8.293509e+37   \n",
      "\n",
      "       power_12      power_13      power_14      power_15     price  \n",
      "0  2.322183e+41  6.502111e+44  1.820591e+48  5.097655e+51  665000.0  \n",
      "For given l2_penalty = 10.00, RSS or average mse =  223690826706292.00\n",
      "\n",
      "-------------------------------------------------------------\n",
      "For given l2_penalty = 31.62, RSS or average mse =  246444287682076.34\n",
      "\n",
      "-------------------------------------------------------------\n",
      "For given l2_penalty = 100.00, RSS or average mse =  257399434154747.69\n",
      "\n",
      "-------------------------------------------------------------\n",
      "For given l2_penalty = 316.23, RSS or average mse =  262865878686022.91\n",
      "\n",
      "-------------------------------------------------------------\n",
      "For given l2_penalty = 1000.00, RSS or average mse =  264977361036975.91\n",
      "\n",
      "-------------------------------------------------------------\n",
      "For given l2_penalty = 3162.28, RSS or average mse =  265692935858318.25\n",
      "\n",
      "-------------------------------------------------------------\n",
      "For given l2_penalty = 10000.00, RSS or average mse =  265924368957215.75\n",
      "\n",
      "-------------------------------------------------------------\n",
      "For given l2_penalty = 31622.78, RSS or average mse =  265998081509342.84\n",
      "\n",
      "-------------------------------------------------------------\n",
      "For given l2_penalty = 100000.00, RSS or average mse =  266021444553980.56\n",
      "\n",
      "-------------------------------------------------------------\n",
      "For given l2_penalty = 316227.77, RSS or average mse =  266028837918724.41\n",
      "\n",
      "-------------------------------------------------------------\n",
      "For given l2_penalty = 1000000.00, RSS or average mse =  266031176438468.09\n",
      "\n",
      "-------------------------------------------------------------\n",
      "For given l2_penalty = 3162277.66, RSS or average mse =  266031915996607.25\n",
      "\n",
      "-------------------------------------------------------------\n",
      "For given l2_penalty = 10000000.00, RSS or average mse =  266032149870752.59\n",
      "\n",
      "-------------------------------------------------------------\n",
      "\n",
      "\n",
      "Overall Best l2_penalty = 10.00, as it gives lowest mse of 223690826706292.00\n"
     ]
    }
   ],
   "source": [
    "l2_penalty_values = np.logspace(1, 7, num=13)\n",
    "print \"l2_penalty_values = \\n\", l2_penalty_values\n",
    "\n",
    "# generate a 15th-order polynomial using the sqft_living as input\n",
    "# we 1st create a sframe - only so that we can easily extract column names for use as features\n",
    "data = polynomial_sframe(train_valid_shuffled['sqft_living'], 15)\n",
    "# grab list of features\n",
    "\n",
    "# use list of features from above\n",
    "features = data.column_names() # NB feature_list is SArray - convert to pd.Series\n",
    "print \"features SArray\\n\", features\n",
    "\n",
    "features_pd = pd.Series(features)\n",
    "print \"features Series\\n\", features_pd\n",
    "\n",
    "features_v = features_pd.values\n",
    "print \"feature series values only \\n\", features_v\n",
    "\n",
    "data = polynomial_pdframe(train_valid_shuffled['sqft_living'], 15)\n",
    "\n",
    "# add price to the data since it's the target we want to train model against\n",
    "data['price'] = train_valid_shuffled['price'] \n",
    "print data.head(1)\n",
    "\n",
    "# for each value of l2_penalty, fit a model for each fold and compute average MSE over 10 folds\n",
    "l2_penalty_mse = []\n",
    "min_mse = None\n",
    "best_l2_penalty = None\n",
    "\n",
    "for l2_penalty in l2_penalty_values:\n",
    "    next_mse = k_fold_cross_validation(10, l2_penalty, data, 'price', features)\n",
    "    l2_penalty_mse.append(next_mse)\n",
    "    \n",
    "    print \"For given l2_penalty = %0.2f, RSS or average mse =  %0.2f\\n\" %(l2_penalty, next_mse)\n",
    "    print \"-------------------------------------------------------------\"\n",
    "    if min_mse is None or next_mse < min_mse:\n",
    "        min_mse = next_mse\n",
    "        best_l2_penalty = l2_penalty\n",
    "        \n",
    "print \"\\n\\nOverall Best l2_penalty = %0.2f, as it gives lowest mse of %0.2f\" %(best_l2_penalty,min_mse)\n"
   ]
  },
  {
   "cell_type": "markdown",
   "metadata": {},
   "source": [
    "***17.QUIZ QUESTIONS:  What is the best value for the L2 penalty according to 10-fold validation?***"
   ]
  },
  {
   "cell_type": "markdown",
   "metadata": {},
   "source": [
    "You may find it useful to plot the k-fold cross-validation errors you have obtained to better understand the behavior of the method.  "
   ]
  },
  {
   "cell_type": "code",
   "execution_count": 82,
   "metadata": {
    "collapsed": false
   },
   "outputs": [
    {
     "data": {
      "image/png": "[encoded data removed]",
      "text/plain": [
       "<matplotlib.figure.Figure at 0x7f977c170350>"
      ]
     },
     "metadata": {},
     "output_type": "display_data"
    }
   ],
   "source": [
    "# Plot the l2_penalty values in the x axis and the cross-validation error in the y axis.\n",
    "# Using plt.xscale('log') will make your plot more intuitive.\n",
    "plt.plot(l2_penalty_values,l2_penalty_mse,'k-')\n",
    "plt.xlabel('$\\ell_2$ penalty')\n",
    "plt.ylabel('K-fold cross validation error')\n",
    "plt.xscale('log')\n",
    "plt.yscale('log')"
   ]
  },
  {
   "cell_type": "markdown",
   "metadata": {},
   "source": [
    "**18.** Once you found the best value for the L2 penalty using cross-validation, it is important to retrain a final model on all of the training data using this value of `l2_penalty`.  This way, your final model will be trained on the entire dataset. Note that train_valid set was 90% of original data. We need to train model using all of this data. The test set (10% of data) will be used for final testing.\n",
    "\n",
    "*train_valid_shuffled = pd.read_csv('../../Week2/wk3_kc_house_train_valid_shuffled.csv', dtype=dtype_dict)\n",
    "\n",
    "test = pd.read_csv('../../Week2/wk3_kc_house_test_data.csv', dtype=dtype_dict)*"
   ]
  },
  {
   "cell_type": "code",
   "execution_count": 85,
   "metadata": {
    "collapsed": false
   },
   "outputs": [
    {
     "data": {
      "text/plain": [
       "[('power_1', 21.974368871067657),\n",
       " ('power_2', 0.0037423263248730111),\n",
       " ('power_3', 4.3953584887905037e-07),\n",
       " ('power_4', 2.8818887920509289e-11),\n",
       " ('power_5', 1.3944552152655498e-15),\n",
       " ('power_6', 6.2193691490555692e-20),\n",
       " ('power_7', 2.6814498421962779e-24),\n",
       " ('power_8', 1.0679810558534908e-28),\n",
       " ('power_9', 3.2862882847254831e-33),\n",
       " ('power_10', -1.9069589051253787e-39),\n",
       " ('power_11', -1.3703442503331597e-41),\n",
       " ('power_12', -1.7884225104596683e-45),\n",
       " ('power_13', -1.7761352919022581e-49),\n",
       " ('power_14', -1.5838186568124017e-53),\n",
       " ('power_15', -1.3347166554745824e-57)]"
      ]
     },
     "execution_count": 85,
     "metadata": {},
     "output_type": "execute_result"
    }
   ],
   "source": [
    "# generate a 15th-order polynomial using the sqft_living as input\n",
    "data = polynomial_pdframe(train_valid_shuffled['sqft_living'], 15)\n",
    "features = data.columns\n",
    "data.head(1)\n",
    "\n",
    "model_bestl2 = linear_model.Ridge(alpha=10, normalize=True)   \n",
    "model_bestl2.fit(data[features], train_valid_shuffled['price'] )\n",
    "\n",
    "zip (features, model_bestl2.coef_) "
   ]
  },
  {
   "cell_type": "markdown",
   "metadata": {},
   "source": [
    "***19. QUIZ QUESTION: Using the best L2 penalty found above, train a model using all training data. What is the RSS on the TEST data of the model you learn with this L2 penalty? ***"
   ]
  },
  {
   "cell_type": "code",
   "execution_count": 86,
   "metadata": {
    "collapsed": false
   },
   "outputs": [
    {
     "name": "stdout",
     "output_type": "stream",
     "text": [
      "2.29953745233e+14\n"
     ]
    }
   ],
   "source": [
    "# Compute validation error using validation set formed earlier\n",
    "# 1st pass only the polynomial features of sqft_living to model \n",
    "# we want to make predictionsusin these features only\n",
    "predictions = model_bestl2.predict( polynomial_pdframe(test['sqft_living'], 15) )\n",
    "    \n",
    "# Calculate residuals = actual outcome/price in validation set - price predictions using validation set \n",
    "residuals = test['price'] - predictions\n",
    "rss = (residuals**2).sum()\n",
    "print rss"
   ]
  }
 ],
 "metadata": {
  "kernelspec": {
   "display_name": "Python 2",
   "language": "python",
   "name": "python2"
  },
  "language_info": {
   "codemirror_mode": {
    "name": "ipython",
    "version": 2
   },
   "file_extension": ".py",
   "mimetype": "text/x-python",
   "name": "python",
   "nbconvert_exporter": "python",
   "pygments_lexer": "ipython2",
   "version": "2.7.11"
  }
 },
 "nbformat": 4,
 "nbformat_minor": 0
}
